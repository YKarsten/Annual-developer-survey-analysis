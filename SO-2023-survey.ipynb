{
 "cells": [
  {
   "cell_type": "markdown",
   "metadata": {},
   "source": [
    "\n",
    "<img src=\"images/green-divider.png\" style=\"width: 100%;\" />\n"
   ]
  },
  {
   "cell_type": "code",
   "execution_count": 20,
   "metadata": {},
   "outputs": [],
   "source": [
    "import pandas as pd\n",
    "import numpy as np\n",
    "import matplotlib.pyplot as plt"
   ]
  },
  {
   "cell_type": "markdown",
   "metadata": {},
   "source": [
    "# Stack Overflow Annual Developer Survey - 2023"
   ]
  },
  {
   "cell_type": "code",
   "execution_count": 2,
   "metadata": {},
   "outputs": [],
   "source": [
    "df = pd.read_csv(\"stack-overflow-developer-survey-2023/survey_results_public.csv\")\n"
   ]
  },
  {
   "cell_type": "code",
   "execution_count": 3,
   "metadata": {},
   "outputs": [
    {
     "data": {
      "text/plain": [
       "Index(['ResponseId', 'Q120', 'MainBranch', 'Age', 'Employment', 'RemoteWork',\n",
       "       'CodingActivities', 'EdLevel', 'LearnCode', 'LearnCodeOnline',\n",
       "       'LearnCodeCoursesCert', 'YearsCode', 'YearsCodePro', 'DevType',\n",
       "       'OrgSize', 'PurchaseInfluence', 'TechList', 'BuyNewTool', 'Country',\n",
       "       'Currency', 'CompTotal', 'LanguageHaveWorkedWith',\n",
       "       'LanguageWantToWorkWith', 'DatabaseHaveWorkedWith',\n",
       "       'DatabaseWantToWorkWith', 'PlatformHaveWorkedWith',\n",
       "       'PlatformWantToWorkWith', 'WebframeHaveWorkedWith',\n",
       "       'WebframeWantToWorkWith', 'MiscTechHaveWorkedWith',\n",
       "       'MiscTechWantToWorkWith', 'ToolsTechHaveWorkedWith',\n",
       "       'ToolsTechWantToWorkWith', 'NEWCollabToolsHaveWorkedWith',\n",
       "       'NEWCollabToolsWantToWorkWith', 'OpSysPersonal use',\n",
       "       'OpSysProfessional use', 'OfficeStackAsyncHaveWorkedWith',\n",
       "       'OfficeStackAsyncWantToWorkWith', 'OfficeStackSyncHaveWorkedWith',\n",
       "       'OfficeStackSyncWantToWorkWith', 'AISearchHaveWorkedWith',\n",
       "       'AISearchWantToWorkWith', 'AIDevHaveWorkedWith', 'AIDevWantToWorkWith',\n",
       "       'NEWSOSites', 'SOVisitFreq', 'SOAccount', 'SOPartFreq', 'SOComm',\n",
       "       'SOAI', 'AISelect', 'AISent', 'AIAcc', 'AIBen',\n",
       "       'AIToolInterested in Using', 'AIToolCurrently Using',\n",
       "       'AIToolNot interested in Using', 'AINextVery different',\n",
       "       'AINextNeither different nor similar', 'AINextSomewhat similar',\n",
       "       'AINextVery similar', 'AINextSomewhat different', 'TBranch', 'ICorPM',\n",
       "       'WorkExp', 'Knowledge_1', 'Knowledge_2', 'Knowledge_3', 'Knowledge_4',\n",
       "       'Knowledge_5', 'Knowledge_6', 'Knowledge_7', 'Knowledge_8',\n",
       "       'Frequency_1', 'Frequency_2', 'Frequency_3', 'TimeSearching',\n",
       "       'TimeAnswering', 'ProfessionalTech', 'Industry', 'SurveyLength',\n",
       "       'SurveyEase', 'ConvertedCompYearly'],\n",
       "      dtype='object')"
      ]
     },
     "metadata": {},
     "output_type": "display_data"
    },
    {
     "data": {
      "text/html": [
       "<div>\n",
       "<style scoped>\n",
       "    .dataframe tbody tr th:only-of-type {\n",
       "        vertical-align: middle;\n",
       "    }\n",
       "\n",
       "    .dataframe tbody tr th {\n",
       "        vertical-align: top;\n",
       "    }\n",
       "\n",
       "    .dataframe thead th {\n",
       "        text-align: right;\n",
       "    }\n",
       "</style>\n",
       "<table border=\"1\" class=\"dataframe\">\n",
       "  <thead>\n",
       "    <tr style=\"text-align: right;\">\n",
       "      <th></th>\n",
       "      <th>ResponseId</th>\n",
       "      <th>Q120</th>\n",
       "      <th>MainBranch</th>\n",
       "      <th>Age</th>\n",
       "      <th>Employment</th>\n",
       "      <th>RemoteWork</th>\n",
       "      <th>CodingActivities</th>\n",
       "      <th>EdLevel</th>\n",
       "      <th>LearnCode</th>\n",
       "      <th>LearnCodeOnline</th>\n",
       "      <th>...</th>\n",
       "      <th>Frequency_1</th>\n",
       "      <th>Frequency_2</th>\n",
       "      <th>Frequency_3</th>\n",
       "      <th>TimeSearching</th>\n",
       "      <th>TimeAnswering</th>\n",
       "      <th>ProfessionalTech</th>\n",
       "      <th>Industry</th>\n",
       "      <th>SurveyLength</th>\n",
       "      <th>SurveyEase</th>\n",
       "      <th>ConvertedCompYearly</th>\n",
       "    </tr>\n",
       "  </thead>\n",
       "  <tbody>\n",
       "    <tr>\n",
       "      <th>0</th>\n",
       "      <td>1</td>\n",
       "      <td>I agree</td>\n",
       "      <td>None of these</td>\n",
       "      <td>18-24 years old</td>\n",
       "      <td>NaN</td>\n",
       "      <td>NaN</td>\n",
       "      <td>NaN</td>\n",
       "      <td>NaN</td>\n",
       "      <td>NaN</td>\n",
       "      <td>NaN</td>\n",
       "      <td>...</td>\n",
       "      <td>NaN</td>\n",
       "      <td>NaN</td>\n",
       "      <td>NaN</td>\n",
       "      <td>NaN</td>\n",
       "      <td>NaN</td>\n",
       "      <td>NaN</td>\n",
       "      <td>NaN</td>\n",
       "      <td>NaN</td>\n",
       "      <td>NaN</td>\n",
       "      <td>NaN</td>\n",
       "    </tr>\n",
       "    <tr>\n",
       "      <th>1</th>\n",
       "      <td>2</td>\n",
       "      <td>I agree</td>\n",
       "      <td>I am a developer by profession</td>\n",
       "      <td>25-34 years old</td>\n",
       "      <td>Employed, full-time</td>\n",
       "      <td>Remote</td>\n",
       "      <td>Hobby;Contribute to open-source projects;Boots...</td>\n",
       "      <td>Bachelor’s degree (B.A., B.S., B.Eng., etc.)</td>\n",
       "      <td>Books / Physical media;Colleague;Friend or fam...</td>\n",
       "      <td>Formal documentation provided by the owner of ...</td>\n",
       "      <td>...</td>\n",
       "      <td>1-2 times a week</td>\n",
       "      <td>10+ times a week</td>\n",
       "      <td>Never</td>\n",
       "      <td>15-30 minutes a day</td>\n",
       "      <td>15-30 minutes a day</td>\n",
       "      <td>DevOps function;Microservices;Automated testin...</td>\n",
       "      <td>Information Services, IT, Software Development...</td>\n",
       "      <td>Appropriate in length</td>\n",
       "      <td>Easy</td>\n",
       "      <td>285000.0</td>\n",
       "    </tr>\n",
       "    <tr>\n",
       "      <th>2</th>\n",
       "      <td>3</td>\n",
       "      <td>I agree</td>\n",
       "      <td>I am a developer by profession</td>\n",
       "      <td>45-54 years old</td>\n",
       "      <td>Employed, full-time</td>\n",
       "      <td>Hybrid (some remote, some in-person)</td>\n",
       "      <td>Hobby;Professional development or self-paced l...</td>\n",
       "      <td>Bachelor’s degree (B.A., B.S., B.Eng., etc.)</td>\n",
       "      <td>Books / Physical media;Colleague;On the job tr...</td>\n",
       "      <td>Formal documentation provided by the owner of ...</td>\n",
       "      <td>...</td>\n",
       "      <td>6-10 times a week</td>\n",
       "      <td>6-10 times a week</td>\n",
       "      <td>3-5 times a week</td>\n",
       "      <td>30-60 minutes a day</td>\n",
       "      <td>30-60 minutes a day</td>\n",
       "      <td>DevOps function;Microservices;Automated testin...</td>\n",
       "      <td>Information Services, IT, Software Development...</td>\n",
       "      <td>Appropriate in length</td>\n",
       "      <td>Easy</td>\n",
       "      <td>250000.0</td>\n",
       "    </tr>\n",
       "    <tr>\n",
       "      <th>3</th>\n",
       "      <td>4</td>\n",
       "      <td>I agree</td>\n",
       "      <td>I am a developer by profession</td>\n",
       "      <td>25-34 years old</td>\n",
       "      <td>Employed, full-time</td>\n",
       "      <td>Hybrid (some remote, some in-person)</td>\n",
       "      <td>Hobby</td>\n",
       "      <td>Bachelor’s degree (B.A., B.S., B.Eng., etc.)</td>\n",
       "      <td>Colleague;Friend or family member;Other online...</td>\n",
       "      <td>Formal documentation provided by the owner of ...</td>\n",
       "      <td>...</td>\n",
       "      <td>1-2 times a week</td>\n",
       "      <td>10+ times a week</td>\n",
       "      <td>1-2 times a week</td>\n",
       "      <td>15-30 minutes a day</td>\n",
       "      <td>30-60 minutes a day</td>\n",
       "      <td>Automated testing;Continuous integration (CI) ...</td>\n",
       "      <td>NaN</td>\n",
       "      <td>Appropriate in length</td>\n",
       "      <td>Easy</td>\n",
       "      <td>156000.0</td>\n",
       "    </tr>\n",
       "    <tr>\n",
       "      <th>4</th>\n",
       "      <td>5</td>\n",
       "      <td>I agree</td>\n",
       "      <td>I am a developer by profession</td>\n",
       "      <td>25-34 years old</td>\n",
       "      <td>Employed, full-time;Independent contractor, fr...</td>\n",
       "      <td>Remote</td>\n",
       "      <td>Hobby;Contribute to open-source projects;Profe...</td>\n",
       "      <td>Bachelor’s degree (B.A., B.S., B.Eng., etc.)</td>\n",
       "      <td>Books / Physical media;Online Courses or Certi...</td>\n",
       "      <td>Formal documentation provided by the owner of ...</td>\n",
       "      <td>...</td>\n",
       "      <td>1-2 times a week</td>\n",
       "      <td>1-2 times a week</td>\n",
       "      <td>3-5 times a week</td>\n",
       "      <td>60-120 minutes a day</td>\n",
       "      <td>30-60 minutes a day</td>\n",
       "      <td>Microservices;Automated testing;Observability ...</td>\n",
       "      <td>Other</td>\n",
       "      <td>Appropriate in length</td>\n",
       "      <td>Neither easy nor difficult</td>\n",
       "      <td>23456.0</td>\n",
       "    </tr>\n",
       "  </tbody>\n",
       "</table>\n",
       "<p>5 rows × 84 columns</p>\n",
       "</div>"
      ],
      "text/plain": [
       "   ResponseId     Q120                      MainBranch              Age  \\\n",
       "0           1  I agree                   None of these  18-24 years old   \n",
       "1           2  I agree  I am a developer by profession  25-34 years old   \n",
       "2           3  I agree  I am a developer by profession  45-54 years old   \n",
       "3           4  I agree  I am a developer by profession  25-34 years old   \n",
       "4           5  I agree  I am a developer by profession  25-34 years old   \n",
       "\n",
       "                                          Employment  \\\n",
       "0                                                NaN   \n",
       "1                                Employed, full-time   \n",
       "2                                Employed, full-time   \n",
       "3                                Employed, full-time   \n",
       "4  Employed, full-time;Independent contractor, fr...   \n",
       "\n",
       "                             RemoteWork  \\\n",
       "0                                   NaN   \n",
       "1                                Remote   \n",
       "2  Hybrid (some remote, some in-person)   \n",
       "3  Hybrid (some remote, some in-person)   \n",
       "4                                Remote   \n",
       "\n",
       "                                    CodingActivities  \\\n",
       "0                                                NaN   \n",
       "1  Hobby;Contribute to open-source projects;Boots...   \n",
       "2  Hobby;Professional development or self-paced l...   \n",
       "3                                              Hobby   \n",
       "4  Hobby;Contribute to open-source projects;Profe...   \n",
       "\n",
       "                                        EdLevel  \\\n",
       "0                                           NaN   \n",
       "1  Bachelor’s degree (B.A., B.S., B.Eng., etc.)   \n",
       "2  Bachelor’s degree (B.A., B.S., B.Eng., etc.)   \n",
       "3  Bachelor’s degree (B.A., B.S., B.Eng., etc.)   \n",
       "4  Bachelor’s degree (B.A., B.S., B.Eng., etc.)   \n",
       "\n",
       "                                           LearnCode  \\\n",
       "0                                                NaN   \n",
       "1  Books / Physical media;Colleague;Friend or fam...   \n",
       "2  Books / Physical media;Colleague;On the job tr...   \n",
       "3  Colleague;Friend or family member;Other online...   \n",
       "4  Books / Physical media;Online Courses or Certi...   \n",
       "\n",
       "                                     LearnCodeOnline  ...        Frequency_1  \\\n",
       "0                                                NaN  ...                NaN   \n",
       "1  Formal documentation provided by the owner of ...  ...   1-2 times a week   \n",
       "2  Formal documentation provided by the owner of ...  ...  6-10 times a week   \n",
       "3  Formal documentation provided by the owner of ...  ...   1-2 times a week   \n",
       "4  Formal documentation provided by the owner of ...  ...   1-2 times a week   \n",
       "\n",
       "         Frequency_2       Frequency_3         TimeSearching  \\\n",
       "0                NaN               NaN                   NaN   \n",
       "1   10+ times a week             Never   15-30 minutes a day   \n",
       "2  6-10 times a week  3-5 times a week   30-60 minutes a day   \n",
       "3   10+ times a week  1-2 times a week   15-30 minutes a day   \n",
       "4   1-2 times a week  3-5 times a week  60-120 minutes a day   \n",
       "\n",
       "         TimeAnswering                                   ProfessionalTech  \\\n",
       "0                  NaN                                                NaN   \n",
       "1  15-30 minutes a day  DevOps function;Microservices;Automated testin...   \n",
       "2  30-60 minutes a day  DevOps function;Microservices;Automated testin...   \n",
       "3  30-60 minutes a day  Automated testing;Continuous integration (CI) ...   \n",
       "4  30-60 minutes a day  Microservices;Automated testing;Observability ...   \n",
       "\n",
       "                                            Industry           SurveyLength  \\\n",
       "0                                                NaN                    NaN   \n",
       "1  Information Services, IT, Software Development...  Appropriate in length   \n",
       "2  Information Services, IT, Software Development...  Appropriate in length   \n",
       "3                                                NaN  Appropriate in length   \n",
       "4                                              Other  Appropriate in length   \n",
       "\n",
       "                   SurveyEase ConvertedCompYearly  \n",
       "0                         NaN                 NaN  \n",
       "1                        Easy            285000.0  \n",
       "2                        Easy            250000.0  \n",
       "3                        Easy            156000.0  \n",
       "4  Neither easy nor difficult             23456.0  \n",
       "\n",
       "[5 rows x 84 columns]"
      ]
     },
     "metadata": {},
     "output_type": "display_data"
    },
    {
     "data": {
      "text/plain": [
       "object     80\n",
       "float64     3\n",
       "int64       1\n",
       "Name: count, dtype: int64"
      ]
     },
     "metadata": {},
     "output_type": "display_data"
    }
   ],
   "source": [
    "display(df.columns)\n",
    "display(df.head())\n",
    "display(df.dtypes.value_counts())"
   ]
  },
  {
   "cell_type": "markdown",
   "metadata": {},
   "source": [
    "### Schema\n",
    "\n",
    "How do the questions from the survey translate to column names?"
   ]
  },
  {
   "cell_type": "code",
   "execution_count": 28,
   "metadata": {},
   "outputs": [
    {
     "name": "stdout",
     "output_type": "stream",
     "text": [
      "QNAME: S1\n"
     ]
    },
    {
     "data": {
      "text/html": [
       "<span style=\"font-size:22px; font-family: arial,helvetica,sans-serif; font-weight: 700;\">Basic Information</span><br>\n",
       "<br>\n",
       "<p><span style=\"font-size:16px; font-family:arial,helvetica,sans-serif;\">The first section will focus on some basic information about who you are.<br>\n",
       "<br>\n",
       "Most questions in this section are required. Required questions are noted with *.</span></p>"
      ],
      "text/plain": [
       "<IPython.core.display.HTML object>"
      ]
     },
     "metadata": {},
     "output_type": "display_data"
    },
    {
     "name": "stdout",
     "output_type": "stream",
     "text": [
      "QNAME: MainBranch\n"
     ]
    },
    {
     "data": {
      "text/html": [
       "Which of the following options best describes you today? For the purpose of this survey, a developer is \"someone who writes code\". *"
      ],
      "text/plain": [
       "<IPython.core.display.HTML object>"
      ]
     },
     "metadata": {},
     "output_type": "display_data"
    },
    {
     "name": "stdout",
     "output_type": "stream",
     "text": [
      "QNAME: Age\n"
     ]
    },
    {
     "data": {
      "text/html": [
       "What is your age? *"
      ],
      "text/plain": [
       "<IPython.core.display.HTML object>"
      ]
     },
     "metadata": {},
     "output_type": "display_data"
    },
    {
     "name": "stdout",
     "output_type": "stream",
     "text": [
      "QNAME: Employment\n"
     ]
    },
    {
     "data": {
      "text/html": [
       "Which of the following best describes your current employment status? Select all that apply."
      ],
      "text/plain": [
       "<IPython.core.display.HTML object>"
      ]
     },
     "metadata": {},
     "output_type": "display_data"
    },
    {
     "name": "stdout",
     "output_type": "stream",
     "text": [
      "QNAME: RemoteWork\n"
     ]
    },
    {
     "data": {
      "text/html": [
       "Which best describes your current work situation?"
      ],
      "text/plain": [
       "<IPython.core.display.HTML object>"
      ]
     },
     "metadata": {},
     "output_type": "display_data"
    },
    {
     "name": "stdout",
     "output_type": "stream",
     "text": [
      "QNAME: CodingActivities\n"
     ]
    },
    {
     "data": {
      "text/html": [
       "Which of the following best describes the code you write outside of work? Select all that apply."
      ],
      "text/plain": [
       "<IPython.core.display.HTML object>"
      ]
     },
     "metadata": {},
     "output_type": "display_data"
    },
    {
     "name": "stdout",
     "output_type": "stream",
     "text": [
      "QNAME: S2\n"
     ]
    },
    {
     "data": {
      "text/html": [
       "<span style=\"font-size:22px; font-family: arial,helvetica,sans-serif; font-weight: 700;\">Education, work, and career</span><br />\n",
       " \n",
       "<p><span style=\"font-size:16px; font-family:arial,helvetica,sans-serif;\">This section will focus on your education, work, and career.<br />\n",
       "<br />\n",
       "Most questions in this section are optional. Required questions are noted with *.</span></p>"
      ],
      "text/plain": [
       "<IPython.core.display.HTML object>"
      ]
     },
     "metadata": {},
     "output_type": "display_data"
    },
    {
     "name": "stdout",
     "output_type": "stream",
     "text": [
      "QNAME: EdLevel\n"
     ]
    },
    {
     "data": {
      "text/html": [
       "Which of the following best describes the highest level of formal education that you’ve completed? *"
      ],
      "text/plain": [
       "<IPython.core.display.HTML object>"
      ]
     },
     "metadata": {},
     "output_type": "display_data"
    },
    {
     "name": "stdout",
     "output_type": "stream",
     "text": [
      "QNAME: LearnCode\n"
     ]
    },
    {
     "data": {
      "text/html": [
       "How do you learn to code? Select all that apply."
      ],
      "text/plain": [
       "<IPython.core.display.HTML object>"
      ]
     },
     "metadata": {},
     "output_type": "display_data"
    },
    {
     "name": "stdout",
     "output_type": "stream",
     "text": [
      "QNAME: LearnCodeOnline\n"
     ]
    },
    {
     "data": {
      "text/html": [
       "What online resources do you use to learn to code? Select all that apply."
      ],
      "text/plain": [
       "<IPython.core.display.HTML object>"
      ]
     },
     "metadata": {},
     "output_type": "display_data"
    },
    {
     "name": "stdout",
     "output_type": "stream",
     "text": [
      "QNAME: LearnCodeCoursesCert\n"
     ]
    },
    {
     "data": {
      "text/html": [
       "What online courses or certifications do you use to learn to code? Select all that apply."
      ],
      "text/plain": [
       "<IPython.core.display.HTML object>"
      ]
     },
     "metadata": {},
     "output_type": "display_data"
    },
    {
     "name": "stdout",
     "output_type": "stream",
     "text": [
      "QNAME: YearsCode\n"
     ]
    },
    {
     "data": {
      "text/html": [
       "Including any education, how many years have you been coding in total?"
      ],
      "text/plain": [
       "<IPython.core.display.HTML object>"
      ]
     },
     "metadata": {},
     "output_type": "display_data"
    },
    {
     "name": "stdout",
     "output_type": "stream",
     "text": [
      "QNAME: YearsCodePro\n"
     ]
    },
    {
     "data": {
      "text/html": [
       "NOT including education, how many years have you coded professionally (as a part of your work)?"
      ],
      "text/plain": [
       "<IPython.core.display.HTML object>"
      ]
     },
     "metadata": {},
     "output_type": "display_data"
    },
    {
     "name": "stdout",
     "output_type": "stream",
     "text": [
      "QNAME: DevType\n"
     ]
    },
    {
     "data": {
      "text/html": [
       "Which of the following describes your current job, the one you do most of the time? Please select only one."
      ],
      "text/plain": [
       "<IPython.core.display.HTML object>"
      ]
     },
     "metadata": {},
     "output_type": "display_data"
    },
    {
     "name": "stdout",
     "output_type": "stream",
     "text": [
      "QNAME: OrgSize\n"
     ]
    },
    {
     "data": {
      "text/html": [
       "Approximately how many people are employed by the company or organization you currently work for?  This should only include your primary company, and not the entire holding or parent company if that applies."
      ],
      "text/plain": [
       "<IPython.core.display.HTML object>"
      ]
     },
     "metadata": {},
     "output_type": "display_data"
    },
    {
     "name": "stdout",
     "output_type": "stream",
     "text": [
      "QNAME: PurchaseInfluence\n"
     ]
    },
    {
     "data": {
      "text/html": [
       "What level of influence do you, personally, have over new technology purchases at your organization?"
      ],
      "text/plain": [
       "<IPython.core.display.HTML object>"
      ]
     },
     "metadata": {},
     "output_type": "display_data"
    },
    {
     "name": "stdout",
     "output_type": "stream",
     "text": [
      "QNAME: TechList\n"
     ]
    },
    {
     "data": {
      "text/html": [
       "When thinking about new technology purchases at your organization, are you more likely to be given a short list of products/services to evaluate or be told to investigate on your own?"
      ],
      "text/plain": [
       "<IPython.core.display.HTML object>"
      ]
     },
     "metadata": {},
     "output_type": "display_data"
    },
    {
     "name": "stdout",
     "output_type": "stream",
     "text": [
      "QNAME: BuyNewTool\n"
     ]
    },
    {
     "data": {
      "text/html": [
       "When buying a new tool or software, how do you discover and research available solutions? Select all that apply."
      ],
      "text/plain": [
       "<IPython.core.display.HTML object>"
      ]
     },
     "metadata": {},
     "output_type": "display_data"
    },
    {
     "name": "stdout",
     "output_type": "stream",
     "text": [
      "QNAME: Country\n"
     ]
    },
    {
     "data": {
      "text/html": [
       "Where do you live? <span style=\"font-weight: bolder;\">*</span>"
      ],
      "text/plain": [
       "<IPython.core.display.HTML object>"
      ]
     },
     "metadata": {},
     "output_type": "display_data"
    },
    {
     "name": "stdout",
     "output_type": "stream",
     "text": [
      "QNAME: Currency\n"
     ]
    },
    {
     "data": {
      "text/html": [
       "Which currency do you use day-to-day? If your answer is complicated, please pick the one you're most comfortable estimating in. *"
      ],
      "text/plain": [
       "<IPython.core.display.HTML object>"
      ]
     },
     "metadata": {},
     "output_type": "display_data"
    },
    {
     "name": "stdout",
     "output_type": "stream",
     "text": [
      "QNAME: CompTotal\n"
     ]
    },
    {
     "data": {
      "text/html": [
       "What is your current total <b>annual</b> compensation (salary, bonuses, and perks, before taxes and deductions)? Please enter a whole number in the box below, without any punctuation.  If you are paid hourly, please estimate an equivalent yearly salary. If you prefer not to answer, please leave the box empty."
      ],
      "text/plain": [
       "<IPython.core.display.HTML object>"
      ]
     },
     "metadata": {},
     "output_type": "display_data"
    },
    {
     "name": "stdout",
     "output_type": "stream",
     "text": [
      "QNAME: S3\n"
     ]
    },
    {
     "data": {
      "text/html": [
       "<span style=\"font-size:22px; font-family: arial,helvetica,sans-serif; font-weight: 700;\">Tech and tech culture</span><br>\n",
       "<br>\n",
       "\n",
       "<p><span style=\"font-size:16px; font-family:arial,helvetica,sans-serif;\">The next set of questions will focus on technology and tech culture.<br>\n",
       "<br>\n",
       "Most questions in this section are optional. Required questions are noted with *.</span></p>"
      ],
      "text/plain": [
       "<IPython.core.display.HTML object>"
      ]
     },
     "metadata": {},
     "output_type": "display_data"
    },
    {
     "name": "stdout",
     "output_type": "stream",
     "text": [
      "QNAME: Language\n"
     ]
    },
    {
     "data": {
      "text/html": [
       "Which <b>programming, scripting, and markup languages</b> have you done extensive development work in over the past year, and which do you want to work in over the next year? (If you both worked with the language and want to continue to do so, please check both boxes in that row.)"
      ],
      "text/plain": [
       "<IPython.core.display.HTML object>"
      ]
     },
     "metadata": {},
     "output_type": "display_data"
    },
    {
     "name": "stdout",
     "output_type": "stream",
     "text": [
      "QNAME: Database\n"
     ]
    },
    {
     "data": {
      "text/html": [
       "Which <b>database environments </b>have you done extensive development work in over the past year, and which do you want to work in over the next year? (If you both worked with the database and want to continue to do so, please check both boxes in that row.)"
      ],
      "text/plain": [
       "<IPython.core.display.HTML object>"
      ]
     },
     "metadata": {},
     "output_type": "display_data"
    },
    {
     "name": "stdout",
     "output_type": "stream",
     "text": [
      "QNAME: Platform\n"
     ]
    },
    {
     "data": {
      "text/html": [
       "Which <b>cloud platforms</b> have you done extensive development work in over the past year, and which do you want to work in over the next year? (If you both worked with the platform and want to continue to do so, please check both boxes in that row.)"
      ],
      "text/plain": [
       "<IPython.core.display.HTML object>"
      ]
     },
     "metadata": {},
     "output_type": "display_data"
    },
    {
     "name": "stdout",
     "output_type": "stream",
     "text": [
      "QNAME: Webframe\n"
     ]
    },
    {
     "data": {
      "text/html": [
       "Which <b>web frameworks and web technologies</b> have you done extensive development work in over the past year, and which do you want to work in over the next year? (If you both worked with the framework and want to continue to do so, please check both boxes in that row.)"
      ],
      "text/plain": [
       "<IPython.core.display.HTML object>"
      ]
     },
     "metadata": {},
     "output_type": "display_data"
    },
    {
     "name": "stdout",
     "output_type": "stream",
     "text": [
      "QNAME: MiscTech\n"
     ]
    },
    {
     "data": {
      "text/html": [
       "Which <b>other frameworks and libraries</b> have you done extensive development work in over the past year, and which do you want to work in over the next year? (If you both worked with the framework and want to continue to do so, please check both boxes in that row.)"
      ],
      "text/plain": [
       "<IPython.core.display.HTML object>"
      ]
     },
     "metadata": {},
     "output_type": "display_data"
    },
    {
     "name": "stdout",
     "output_type": "stream",
     "text": [
      "QNAME: ToolsTech\n"
     ]
    },
    {
     "data": {
      "text/html": [
       "Which <b>developer </b><strong>tools for compiling, building and testing</strong> have you done extensive development work in over the past year, and which do you want to work in over the next year? (If you both worked with the technology and want to continue to do so, please check both boxes in that row.)"
      ],
      "text/plain": [
       "<IPython.core.display.HTML object>"
      ]
     },
     "metadata": {},
     "output_type": "display_data"
    },
    {
     "name": "stdout",
     "output_type": "stream",
     "text": [
      "QNAME: NEWCollabTools\n"
     ]
    },
    {
     "data": {
      "text/html": [
       "Which <strong>development environments</strong> did you use regularly over the past year, and which do you want to work with over the next year? Please check all that apply."
      ],
      "text/plain": [
       "<IPython.core.display.HTML object>"
      ]
     },
     "metadata": {},
     "output_type": "display_data"
    },
    {
     "name": "stdout",
     "output_type": "stream",
     "text": [
      "QNAME: OpSys\n"
     ]
    },
    {
     "data": {
      "text/html": [
       "What is the primary <b>operating system</b> in which you work? "
      ],
      "text/plain": [
       "<IPython.core.display.HTML object>"
      ]
     },
     "metadata": {},
     "output_type": "display_data"
    },
    {
     "name": "stdout",
     "output_type": "stream",
     "text": [
      "QNAME: OfficeStackAsync\n"
     ]
    },
    {
     "data": {
      "text/html": [
       "Which <b>collaborative work management and/or code documentation tools</b> did you use regularly over the past year, and which do you want to work with over the next year? Select all that apply"
      ],
      "text/plain": [
       "<IPython.core.display.HTML object>"
      ]
     },
     "metadata": {},
     "output_type": "display_data"
    },
    {
     "name": "stdout",
     "output_type": "stream",
     "text": [
      "QNAME: OfficeStackSync\n"
     ]
    },
    {
     "data": {
      "text/html": [
       "Which <b>communication tools</b> did you use regularly over the past year, and which do you want to work with over the next year? Select all that apply"
      ],
      "text/plain": [
       "<IPython.core.display.HTML object>"
      ]
     },
     "metadata": {},
     "output_type": "display_data"
    },
    {
     "name": "stdout",
     "output_type": "stream",
     "text": [
      "QNAME: AISearch\n"
     ]
    },
    {
     "data": {
      "text/html": [
       "Which <b>AI-powered search tools</b> did you use regularly over the past year, and which do you want to work with over the next year? Select all that apply."
      ],
      "text/plain": [
       "<IPython.core.display.HTML object>"
      ]
     },
     "metadata": {},
     "output_type": "display_data"
    },
    {
     "name": "stdout",
     "output_type": "stream",
     "text": [
      "QNAME: AIDev\n"
     ]
    },
    {
     "data": {
      "text/html": [
       "Which <b>AI-powered developer tools</b> did you use regularly over the past year, and which do you want to work with over the next year? Select all that apply"
      ],
      "text/plain": [
       "<IPython.core.display.HTML object>"
      ]
     },
     "metadata": {},
     "output_type": "display_data"
    },
    {
     "name": "stdout",
     "output_type": "stream",
     "text": [
      "QNAME: S4\n"
     ]
    },
    {
     "data": {
      "text/html": [
       "<span style=\"font-size:22px; font-family: arial,helvetica,sans-serif; font-weight: 700;\">Stack Overflow - usage and community</span><br>\n",
       "<br>\n",
       "\n",
       "<p><span style=\"font-size:16px; font-family:arial,helvetica,sans-serif;\">This section will focus on Stack Overflow usage and community questions.<br>\n",
       "<br>\n",
       "Most questions in this section are optional. Required questions are noted with *.</span></p>"
      ],
      "text/plain": [
       "<IPython.core.display.HTML object>"
      ]
     },
     "metadata": {},
     "output_type": "display_data"
    },
    {
     "name": "stdout",
     "output_type": "stream",
     "text": [
      "QNAME: NEWSOSites\n"
     ]
    },
    {
     "data": {
      "text/html": [
       "Which of the following Stack Overflow sites have you visited? Select all that apply. *"
      ],
      "text/plain": [
       "<IPython.core.display.HTML object>"
      ]
     },
     "metadata": {},
     "output_type": "display_data"
    },
    {
     "name": "stdout",
     "output_type": "stream",
     "text": [
      "QNAME: SOVisitFreq\n"
     ]
    },
    {
     "data": {
      "text/html": [
       "How frequently would you say you visit Stack Overflow?"
      ],
      "text/plain": [
       "<IPython.core.display.HTML object>"
      ]
     },
     "metadata": {},
     "output_type": "display_data"
    },
    {
     "name": "stdout",
     "output_type": "stream",
     "text": [
      "QNAME: SOAccount\n"
     ]
    },
    {
     "data": {
      "text/html": [
       "Do you have a Stack Overflow account?"
      ],
      "text/plain": [
       "<IPython.core.display.HTML object>"
      ]
     },
     "metadata": {},
     "output_type": "display_data"
    },
    {
     "name": "stdout",
     "output_type": "stream",
     "text": [
      "QNAME: SOPartFreq\n"
     ]
    },
    {
     "data": {
      "text/html": [
       "How frequently would you say you participate in Q&amp;A on Stack Overflow? By participate we mean ask, answer, vote for, or comment on questions."
      ],
      "text/plain": [
       "<IPython.core.display.HTML object>"
      ]
     },
     "metadata": {},
     "output_type": "display_data"
    },
    {
     "name": "stdout",
     "output_type": "stream",
     "text": [
      "QNAME: SOComm\n"
     ]
    },
    {
     "data": {
      "text/html": [
       "Do you consider yourself a member of the Stack Overflow community?"
      ],
      "text/plain": [
       "<IPython.core.display.HTML object>"
      ]
     },
     "metadata": {},
     "output_type": "display_data"
    },
    {
     "name": "stdout",
     "output_type": "stream",
     "text": [
      "QNAME: S5\n"
     ]
    },
    {
     "data": {
      "text/html": [
       "<span style=\"font-size:22px; font-family: arial,helvetica,sans-serif; font-weight: 700;\">Artificial Intelligence (AI)</span><br>\n",
       "<br>\n",
       "\n",
       "<p><span style=\"font-size:16px; font-family:arial,helvetica,sans-serif;\">This section will focus on AI usage and sentiment</span><span style=\"font-family: arial, helvetica, sans-serif; font-size: 16px;\">.</span></p><p><span style=\"font-size:16px; font-family:arial,helvetica,sans-serif;\">\n",
       "<br>\n",
       "Most questions in this section are optional. Required questions are noted with *.</span></p>"
      ],
      "text/plain": [
       "<IPython.core.display.HTML object>"
      ]
     },
     "metadata": {},
     "output_type": "display_data"
    },
    {
     "name": "stdout",
     "output_type": "stream",
     "text": [
      "QNAME: SOAI\n"
     ]
    },
    {
     "data": {
      "text/html": [
       "Artificial Intelligence (AI) tools have gained prominence recently across industries. The following question asks for your perspective on Stack Overflow using AI technology to improve the current experience, for example by using AI to suggest better titles for your question. For your response, consider these sorts of improvements to the experience with/on Stack Overflow and not the presence or absence of content generated by AI and posted on Stack Overflow. <br><br>What is your opinion on Stack Overflow using AI tools to improve the current experience? What could AI help with most to improve Stack Overflow?"
      ],
      "text/plain": [
       "<IPython.core.display.HTML object>"
      ]
     },
     "metadata": {},
     "output_type": "display_data"
    },
    {
     "name": "stdout",
     "output_type": "stream",
     "text": [
      "QNAME: AISelect\n"
     ]
    },
    {
     "data": {
      "text/html": [
       "Do you currently use AI tools in your development process? *"
      ],
      "text/plain": [
       "<IPython.core.display.HTML object>"
      ]
     },
     "metadata": {},
     "output_type": "display_data"
    },
    {
     "name": "stdout",
     "output_type": "stream",
     "text": [
      "QNAME: AISent\n"
     ]
    },
    {
     "data": {
      "text/html": [
       "How favorable is your stance on using AI tools as part of your development workflow?"
      ],
      "text/plain": [
       "<IPython.core.display.HTML object>"
      ]
     },
     "metadata": {},
     "output_type": "display_data"
    },
    {
     "name": "stdout",
     "output_type": "stream",
     "text": [
      "QNAME: AIAcc\n"
     ]
    },
    {
     "data": {
      "text/html": [
       "For the AI tools you use as part of your development workflow, what are the MOST important benefits you are hoping to achieve? Please check all that apply."
      ],
      "text/plain": [
       "<IPython.core.display.HTML object>"
      ]
     },
     "metadata": {},
     "output_type": "display_data"
    },
    {
     "name": "stdout",
     "output_type": "stream",
     "text": [
      "QNAME: AIBen\n"
     ]
    },
    {
     "data": {
      "text/html": [
       "How much do you trust the accuracy of the output from AI tools as part of your development workflow?"
      ],
      "text/plain": [
       "<IPython.core.display.HTML object>"
      ]
     },
     "metadata": {},
     "output_type": "display_data"
    },
    {
     "name": "stdout",
     "output_type": "stream",
     "text": [
      "QNAME: AITool\n"
     ]
    },
    {
     "data": {
      "text/html": [
       "Which parts of your development workflow are you currently using AI tools for and which are you interested in using AI tools for over the next year?  Please select all that apply."
      ],
      "text/plain": [
       "<IPython.core.display.HTML object>"
      ]
     },
     "metadata": {},
     "output_type": "display_data"
    },
    {
     "name": "stdout",
     "output_type": "stream",
     "text": [
      "QNAME: AINext\n"
     ]
    },
    {
     "data": {
      "text/html": [
       "Thinking about how your workflow and process changes over time, how similar or different do you anticipate your workflow to be 1 year from now as a result of AI tools you are currently using?"
      ],
      "text/plain": [
       "<IPython.core.display.HTML object>"
      ]
     },
     "metadata": {},
     "output_type": "display_data"
    },
    {
     "name": "stdout",
     "output_type": "stream",
     "text": [
      "QNAME: AIOpen\n"
     ]
    },
    {
     "data": {
      "text/html": [
       "Please describe how you would expect your workflow to be different, if at all, in 1 year as a result of AI advancements."
      ],
      "text/plain": [
       "<IPython.core.display.HTML object>"
      ]
     },
     "metadata": {},
     "output_type": "display_data"
    },
    {
     "name": "stdout",
     "output_type": "stream",
     "text": [
      "QNAME: S6\n"
     ]
    },
    {
     "data": {
      "text/html": [
       "<span style=\"font-size:22px; font-family: arial,helvetica,sans-serif; font-weight: 700;\">Professional Developer Series</span><br>\n",
       " \n",
       "<p><span style=\"font-size: 16px;\"></span></p>In one of our previous pulse surveys, we saw that people valued being productive and having growth opportunities at work. By adding a <b>Professional Developer Series </b>to the survey we want to better understand the things that may impact your productivity and opportunities to learn. <br><br>Like the rest of the survey, your responses are completely anonymous.  Most questions in this section are optional. Required questions are noted with *.<p><span style=\"font-size: 16px;\"></span></p>\n",
       "\n",
       "<p> </p>\n",
       "\n",
       "<p><span style=\"font-size: 16px;\">Blog post - <a href=\"https://stackoverflow.blog/2021/12/07/new-data-what-developers-look-for-in-future-job-opportunities/\">New data: What developers look for in future job opportunities</a> - December 7, 2021</span></p>"
      ],
      "text/plain": [
       "<IPython.core.display.HTML object>"
      ]
     },
     "metadata": {},
     "output_type": "display_data"
    },
    {
     "name": "stdout",
     "output_type": "stream",
     "text": [
      "QNAME: TBranch\n"
     ]
    },
    {
     "data": {
      "text/html": [
       "<span style=\"font-size:16px;\">Would you like to participate in the Professional Developer Series? *</span>"
      ],
      "text/plain": [
       "<IPython.core.display.HTML object>"
      ]
     },
     "metadata": {},
     "output_type": "display_data"
    },
    {
     "name": "stdout",
     "output_type": "stream",
     "text": [
      "QNAME: ICorPM\n"
     ]
    },
    {
     "data": {
      "text/html": [
       "Are you an individual contributor or people manager?"
      ],
      "text/plain": [
       "<IPython.core.display.HTML object>"
      ]
     },
     "metadata": {},
     "output_type": "display_data"
    },
    {
     "name": "stdout",
     "output_type": "stream",
     "text": [
      "QNAME: WorkExp\n"
     ]
    },
    {
     "data": {
      "text/html": [
       "How many years of working experience do you have?"
      ],
      "text/plain": [
       "<IPython.core.display.HTML object>"
      ]
     },
     "metadata": {},
     "output_type": "display_data"
    },
    {
     "name": "stdout",
     "output_type": "stream",
     "text": [
      "QNAME: Knowledge\n"
     ]
    },
    {
     "data": {
      "text/html": [
       "Please rate your level of agreement with the following statement:"
      ],
      "text/plain": [
       "<IPython.core.display.HTML object>"
      ]
     },
     "metadata": {},
     "output_type": "display_data"
    },
    {
     "name": "stdout",
     "output_type": "stream",
     "text": [
      "QNAME: Frequency\n"
     ]
    },
    {
     "data": {
      "text/html": [
       "How frequently do you experience each of the following?"
      ],
      "text/plain": [
       "<IPython.core.display.HTML object>"
      ]
     },
     "metadata": {},
     "output_type": "display_data"
    },
    {
     "name": "stdout",
     "output_type": "stream",
     "text": [
      "QNAME: TimeSearching\n"
     ]
    },
    {
     "data": {
      "text/html": [
       "On an average day, how much time do you typically spend searching for answers or solutions to problems you encounter at work? (This includes time spent searching on your own, asking a colleague, and waiting for a response)."
      ],
      "text/plain": [
       "<IPython.core.display.HTML object>"
      ]
     },
     "metadata": {},
     "output_type": "display_data"
    },
    {
     "name": "stdout",
     "output_type": "stream",
     "text": [
      "QNAME: TimeAnswering\n"
     ]
    },
    {
     "data": {
      "text/html": [
       "On an average day, how much time do you typically spend answering questions you get asked at work?"
      ],
      "text/plain": [
       "<IPython.core.display.HTML object>"
      ]
     },
     "metadata": {},
     "output_type": "display_data"
    },
    {
     "name": "stdout",
     "output_type": "stream",
     "text": [
      "QNAME: ProfessionalTech\n"
     ]
    },
    {
     "data": {
      "text/html": [
       "My company has:"
      ],
      "text/plain": [
       "<IPython.core.display.HTML object>"
      ]
     },
     "metadata": {},
     "output_type": "display_data"
    },
    {
     "name": "stdout",
     "output_type": "stream",
     "text": [
      "QNAME: Industry\n"
     ]
    },
    {
     "data": {
      "text/html": [
       "What industry is the company you work for in?"
      ],
      "text/plain": [
       "<IPython.core.display.HTML object>"
      ]
     },
     "metadata": {},
     "output_type": "display_data"
    },
    {
     "name": "stdout",
     "output_type": "stream",
     "text": [
      "QNAME: SOTeamsUsage\n"
     ]
    },
    {
     "data": {
      "text/html": [
       "Does your team use Stack Overflow for Teams?"
      ],
      "text/plain": [
       "<IPython.core.display.HTML object>"
      ]
     },
     "metadata": {},
     "output_type": "display_data"
    },
    {
     "name": "stdout",
     "output_type": "stream",
     "text": [
      "QNAME: S7\n"
     ]
    },
    {
     "data": {
      "text/html": [
       "<span style=\"font-size:22px;\"><strong>Final Questions</strong></span><div><br></div>"
      ],
      "text/plain": [
       "<IPython.core.display.HTML object>"
      ]
     },
     "metadata": {},
     "output_type": "display_data"
    },
    {
     "name": "stdout",
     "output_type": "stream",
     "text": [
      "QNAME: SurveyLength\n"
     ]
    },
    {
     "data": {
      "text/html": [
       "How do you feel about the length of the survey this year?"
      ],
      "text/plain": [
       "<IPython.core.display.HTML object>"
      ]
     },
     "metadata": {},
     "output_type": "display_data"
    },
    {
     "name": "stdout",
     "output_type": "stream",
     "text": [
      "QNAME: SurveyEase\n"
     ]
    },
    {
     "data": {
      "text/html": [
       "How easy or difficult was this survey to complete?"
      ],
      "text/plain": [
       "<IPython.core.display.HTML object>"
      ]
     },
     "metadata": {},
     "output_type": "display_data"
    },
    {
     "name": "stdout",
     "output_type": "stream",
     "text": [
      "QNAME: Knowledge_1\n"
     ]
    },
    {
     "data": {
      "text/html": [
       "I have interactions with people outside of my immediate team."
      ],
      "text/plain": [
       "<IPython.core.display.HTML object>"
      ]
     },
     "metadata": {},
     "output_type": "display_data"
    },
    {
     "name": "stdout",
     "output_type": "stream",
     "text": [
      "QNAME: Knowledge_2\n"
     ]
    },
    {
     "data": {
      "text/html": [
       "Knowledge silos prevent me from getting ideas across the organization (i.e., one individual or team has information that isn't shared with others)"
      ],
      "text/plain": [
       "<IPython.core.display.HTML object>"
      ]
     },
     "metadata": {},
     "output_type": "display_data"
    },
    {
     "name": "stdout",
     "output_type": "stream",
     "text": [
      "QNAME: Knowledge_3\n"
     ]
    },
    {
     "data": {
      "text/html": [
       "I can find up-to-date information within my organization to help me do my job."
      ],
      "text/plain": [
       "<IPython.core.display.HTML object>"
      ]
     },
     "metadata": {},
     "output_type": "display_data"
    },
    {
     "name": "stdout",
     "output_type": "stream",
     "text": [
      "QNAME: Knowledge_4\n"
     ]
    },
    {
     "data": {
      "text/html": [
       "I am able to quickly find answers to my questions with existing tools and resources."
      ],
      "text/plain": [
       "<IPython.core.display.HTML object>"
      ]
     },
     "metadata": {},
     "output_type": "display_data"
    },
    {
     "name": "stdout",
     "output_type": "stream",
     "text": [
      "QNAME: Knowledge_5\n"
     ]
    },
    {
     "data": {
      "text/html": [
       "I know which system or resource to use to find information and answers to questions I have."
      ],
      "text/plain": [
       "<IPython.core.display.HTML object>"
      ]
     },
     "metadata": {},
     "output_type": "display_data"
    },
    {
     "name": "stdout",
     "output_type": "stream",
     "text": [
      "QNAME: Knowledge_6\n"
     ]
    },
    {
     "data": {
      "text/html": [
       "I often find myself answering questions that I’ve already answered before."
      ],
      "text/plain": [
       "<IPython.core.display.HTML object>"
      ]
     },
     "metadata": {},
     "output_type": "display_data"
    },
    {
     "name": "stdout",
     "output_type": "stream",
     "text": [
      "QNAME: Knowledge_7\n"
     ]
    },
    {
     "data": {
      "text/html": [
       "Waiting on answers to questions often causes interruptions and disrupts my workflow."
      ],
      "text/plain": [
       "<IPython.core.display.HTML object>"
      ]
     },
     "metadata": {},
     "output_type": "display_data"
    },
    {
     "name": "stdout",
     "output_type": "stream",
     "text": [
      "QNAME: Knowledge_8\n"
     ]
    },
    {
     "data": {
      "text/html": [
       "I feel like I have the tools and/or resources to quickly understand and work on any area of my company's code/system/platform."
      ],
      "text/plain": [
       "<IPython.core.display.HTML object>"
      ]
     },
     "metadata": {},
     "output_type": "display_data"
    },
    {
     "name": "stdout",
     "output_type": "stream",
     "text": [
      "QNAME: Frequency_1\n"
     ]
    },
    {
     "data": {
      "text/html": [
       "Needing help from people outside of your immediate team?"
      ],
      "text/plain": [
       "<IPython.core.display.HTML object>"
      ]
     },
     "metadata": {},
     "output_type": "display_data"
    },
    {
     "name": "stdout",
     "output_type": "stream",
     "text": [
      "QNAME: Frequency_2\n"
     ]
    },
    {
     "data": {
      "text/html": [
       "Interacting with people outside of your immediate team?"
      ],
      "text/plain": [
       "<IPython.core.display.HTML object>"
      ]
     },
     "metadata": {},
     "output_type": "display_data"
    },
    {
     "name": "stdout",
     "output_type": "stream",
     "text": [
      "QNAME: Frequency_3\n"
     ]
    },
    {
     "data": {
      "text/html": [
       "Encountering knowledge silos (where one individual or team has information that's not shared or distributed with other individuals or teams) at work?"
      ],
      "text/plain": [
       "<IPython.core.display.HTML object>"
      ]
     },
     "metadata": {},
     "output_type": "display_data"
    }
   ],
   "source": [
    "from IPython.display import HTML, display\n",
    "import pandas as pd\n",
    "\n",
    "# Load the schema file\n",
    "schema = pd.read_csv(\"stack-overflow-developer-survey-2023/survey_results_schema.csv\")\n",
    "\n",
    "# To prevent truncation of columns, change the default options\n",
    "pd.set_option('display.max_colwidth', None)\n",
    "\n",
    "# To prevent truncation of cells, change the default options \n",
    "pd.set_option('display.max_rows', None)\n",
    "\n",
    "# Function to display HTML content correctly\n",
    "def display_html_content(html):\n",
    "    display(HTML(html))\n",
    "\n",
    "# Apply the display_html_content function to each row in the DataFrame\n",
    "for index, row in schema[4:].iterrows():\n",
    "    qname = row['qname']\n",
    "    question = row['question']\n",
    "    print(f\"QNAME: {qname}\")\n",
    "    display_html_content(question)\n"
   ]
  },
  {
   "cell_type": "code",
   "execution_count": 4,
   "metadata": {},
   "outputs": [
    {
     "data": {
      "text/html": [
       "<div>\n",
       "<style scoped>\n",
       "    .dataframe tbody tr th:only-of-type {\n",
       "        vertical-align: middle;\n",
       "    }\n",
       "\n",
       "    .dataframe tbody tr th {\n",
       "        vertical-align: top;\n",
       "    }\n",
       "\n",
       "    .dataframe thead th {\n",
       "        text-align: right;\n",
       "    }\n",
       "</style>\n",
       "<table border=\"1\" class=\"dataframe\">\n",
       "  <thead>\n",
       "    <tr style=\"text-align: right;\">\n",
       "      <th></th>\n",
       "      <th>qname</th>\n",
       "      <th>question</th>\n",
       "    </tr>\n",
       "  </thead>\n",
       "  <tbody>\n",
       "    <tr>\n",
       "      <th>4</th>\n",
       "      <td>S1</td>\n",
       "      <td>&lt;span style=\"font-size:22px; font-family: arial,helvetica,sans-serif; font-weight: 700;\"&gt;Basic Information&lt;/span&gt;&lt;br&gt;\\n&lt;br&gt;\\n&lt;p&gt;&lt;span style=\"font-size:16px; font-family:arial,helvetica,sans-serif;\"&gt;The first section will focus on some basic information about who you are.&lt;br&gt;\\n&lt;br&gt;\\nMost questions in this section are required. Required questions are noted with *.&lt;/span&gt;&lt;/p&gt;</td>\n",
       "    </tr>\n",
       "    <tr>\n",
       "      <th>5</th>\n",
       "      <td>MainBranch</td>\n",
       "      <td>Which of the following options best describes you today? For the purpose of this survey, a developer is \"someone who writes code\". *</td>\n",
       "    </tr>\n",
       "    <tr>\n",
       "      <th>6</th>\n",
       "      <td>Age</td>\n",
       "      <td>What is your age? *</td>\n",
       "    </tr>\n",
       "    <tr>\n",
       "      <th>7</th>\n",
       "      <td>Employment</td>\n",
       "      <td>Which of the following best describes your current employment status? Select all that apply.</td>\n",
       "    </tr>\n",
       "    <tr>\n",
       "      <th>8</th>\n",
       "      <td>RemoteWork</td>\n",
       "      <td>Which best describes your current work situation?</td>\n",
       "    </tr>\n",
       "    <tr>\n",
       "      <th>9</th>\n",
       "      <td>CodingActivities</td>\n",
       "      <td>Which of the following best describes the code you write outside of work? Select all that apply.</td>\n",
       "    </tr>\n",
       "    <tr>\n",
       "      <th>10</th>\n",
       "      <td>S2</td>\n",
       "      <td>&lt;span style=\"font-size:22px; font-family: arial,helvetica,sans-serif; font-weight: 700;\"&gt;Education, work, and career&lt;/span&gt;&lt;br /&gt;\\n \\n&lt;p&gt;&lt;span style=\"font-size:16px; font-family:arial,helvetica,sans-serif;\"&gt;This section will focus on your education, work, and career.&lt;br /&gt;\\n&lt;br /&gt;\\nMost questions in this section are optional. Required questions are noted with *.&lt;/span&gt;&lt;/p&gt;</td>\n",
       "    </tr>\n",
       "    <tr>\n",
       "      <th>11</th>\n",
       "      <td>EdLevel</td>\n",
       "      <td>Which of the following best describes the highest level of formal education that you’ve completed? *</td>\n",
       "    </tr>\n",
       "    <tr>\n",
       "      <th>12</th>\n",
       "      <td>LearnCode</td>\n",
       "      <td>How do you learn to code? Select all that apply.</td>\n",
       "    </tr>\n",
       "    <tr>\n",
       "      <th>13</th>\n",
       "      <td>LearnCodeOnline</td>\n",
       "      <td>What online resources do you use to learn to code? Select all that apply.</td>\n",
       "    </tr>\n",
       "    <tr>\n",
       "      <th>14</th>\n",
       "      <td>LearnCodeCoursesCert</td>\n",
       "      <td>What online courses or certifications do you use to learn to code? Select all that apply.</td>\n",
       "    </tr>\n",
       "    <tr>\n",
       "      <th>15</th>\n",
       "      <td>YearsCode</td>\n",
       "      <td>Including any education, how many years have you been coding in total?</td>\n",
       "    </tr>\n",
       "    <tr>\n",
       "      <th>16</th>\n",
       "      <td>YearsCodePro</td>\n",
       "      <td>NOT including education, how many years have you coded professionally (as a part of your work)?</td>\n",
       "    </tr>\n",
       "    <tr>\n",
       "      <th>17</th>\n",
       "      <td>DevType</td>\n",
       "      <td>Which of the following describes your current job, the one you do most of the time? Please select only one.</td>\n",
       "    </tr>\n",
       "    <tr>\n",
       "      <th>18</th>\n",
       "      <td>OrgSize</td>\n",
       "      <td>Approximately how many people are employed by the company or organization you currently work for?  This should only include your primary company, and not the entire holding or parent company if that applies.</td>\n",
       "    </tr>\n",
       "    <tr>\n",
       "      <th>19</th>\n",
       "      <td>PurchaseInfluence</td>\n",
       "      <td>What level of influence do you, personally, have over new technology purchases at your organization?</td>\n",
       "    </tr>\n",
       "    <tr>\n",
       "      <th>20</th>\n",
       "      <td>TechList</td>\n",
       "      <td>When thinking about new technology purchases at your organization, are you more likely to be given a short list of products/services to evaluate or be told to investigate on your own?</td>\n",
       "    </tr>\n",
       "    <tr>\n",
       "      <th>21</th>\n",
       "      <td>BuyNewTool</td>\n",
       "      <td>When buying a new tool or software, how do you discover and research available solutions? Select all that apply.</td>\n",
       "    </tr>\n",
       "    <tr>\n",
       "      <th>22</th>\n",
       "      <td>Country</td>\n",
       "      <td>Where do you live? &lt;span style=\"font-weight: bolder;\"&gt;*&lt;/span&gt;</td>\n",
       "    </tr>\n",
       "    <tr>\n",
       "      <th>23</th>\n",
       "      <td>Currency</td>\n",
       "      <td>Which currency do you use day-to-day? If your answer is complicated, please pick the one you're most comfortable estimating in. *</td>\n",
       "    </tr>\n",
       "    <tr>\n",
       "      <th>24</th>\n",
       "      <td>CompTotal</td>\n",
       "      <td>What is your current total &lt;b&gt;annual&lt;/b&gt; compensation (salary, bonuses, and perks, before taxes and deductions)? Please enter a whole number in the box below, without any punctuation.  If you are paid hourly, please estimate an equivalent yearly salary. If you prefer not to answer, please leave the box empty.</td>\n",
       "    </tr>\n",
       "    <tr>\n",
       "      <th>25</th>\n",
       "      <td>S3</td>\n",
       "      <td>&lt;span style=\"font-size:22px; font-family: arial,helvetica,sans-serif; font-weight: 700;\"&gt;Tech and tech culture&lt;/span&gt;&lt;br&gt;\\n&lt;br&gt;\\n\\n&lt;p&gt;&lt;span style=\"font-size:16px; font-family:arial,helvetica,sans-serif;\"&gt;The next set of questions will focus on technology and tech culture.&lt;br&gt;\\n&lt;br&gt;\\nMost questions in this section are optional. Required questions are noted with *.&lt;/span&gt;&lt;/p&gt;</td>\n",
       "    </tr>\n",
       "    <tr>\n",
       "      <th>26</th>\n",
       "      <td>Language</td>\n",
       "      <td>Which &lt;b&gt;programming, scripting, and markup languages&lt;/b&gt; have you done extensive development work in over the past year, and which do you want to work in over the next year? (If you both worked with the language and want to continue to do so, please check both boxes in that row.)</td>\n",
       "    </tr>\n",
       "    <tr>\n",
       "      <th>27</th>\n",
       "      <td>Database</td>\n",
       "      <td>Which &lt;b&gt;database environments &lt;/b&gt;have you done extensive development work in over the past year, and which do you want to work in over the next year? (If you both worked with the database and want to continue to do so, please check both boxes in that row.)</td>\n",
       "    </tr>\n",
       "    <tr>\n",
       "      <th>28</th>\n",
       "      <td>Platform</td>\n",
       "      <td>Which &lt;b&gt;cloud platforms&lt;/b&gt; have you done extensive development work in over the past year, and which do you want to work in over the next year? (If you both worked with the platform and want to continue to do so, please check both boxes in that row.)</td>\n",
       "    </tr>\n",
       "    <tr>\n",
       "      <th>29</th>\n",
       "      <td>Webframe</td>\n",
       "      <td>Which &lt;b&gt;web frameworks and web technologies&lt;/b&gt; have you done extensive development work in over the past year, and which do you want to work in over the next year? (If you both worked with the framework and want to continue to do so, please check both boxes in that row.)</td>\n",
       "    </tr>\n",
       "    <tr>\n",
       "      <th>30</th>\n",
       "      <td>MiscTech</td>\n",
       "      <td>Which &lt;b&gt;other frameworks and libraries&lt;/b&gt; have you done extensive development work in over the past year, and which do you want to work in over the next year? (If you both worked with the framework and want to continue to do so, please check both boxes in that row.)</td>\n",
       "    </tr>\n",
       "    <tr>\n",
       "      <th>31</th>\n",
       "      <td>ToolsTech</td>\n",
       "      <td>Which &lt;b&gt;developer &lt;/b&gt;&lt;strong&gt;tools for compiling, building and testing&lt;/strong&gt; have you done extensive development work in over the past year, and which do you want to work in over the next year? (If you both worked with the technology and want to continue to do so, please check both boxes in that row.)</td>\n",
       "    </tr>\n",
       "    <tr>\n",
       "      <th>32</th>\n",
       "      <td>NEWCollabTools</td>\n",
       "      <td>Which &lt;strong&gt;development environments&lt;/strong&gt; did you use regularly over the past year, and which do you want to work with over the next year? Please check all that apply.</td>\n",
       "    </tr>\n",
       "    <tr>\n",
       "      <th>33</th>\n",
       "      <td>OpSys</td>\n",
       "      <td>What is the primary &lt;b&gt;operating system&lt;/b&gt; in which you work?</td>\n",
       "    </tr>\n",
       "    <tr>\n",
       "      <th>34</th>\n",
       "      <td>OfficeStackAsync</td>\n",
       "      <td>Which &lt;b&gt;collaborative work management and/or code documentation tools&lt;/b&gt; did you use regularly over the past year, and which do you want to work with over the next year? Select all that apply</td>\n",
       "    </tr>\n",
       "    <tr>\n",
       "      <th>35</th>\n",
       "      <td>OfficeStackSync</td>\n",
       "      <td>Which &lt;b&gt;communication tools&lt;/b&gt; did you use regularly over the past year, and which do you want to work with over the next year? Select all that apply</td>\n",
       "    </tr>\n",
       "    <tr>\n",
       "      <th>36</th>\n",
       "      <td>AISearch</td>\n",
       "      <td>Which &lt;b&gt;AI-powered search tools&lt;/b&gt; did you use regularly over the past year, and which do you want to work with over the next year? Select all that apply.</td>\n",
       "    </tr>\n",
       "    <tr>\n",
       "      <th>37</th>\n",
       "      <td>AIDev</td>\n",
       "      <td>Which &lt;b&gt;AI-powered developer tools&lt;/b&gt; did you use regularly over the past year, and which do you want to work with over the next year? Select all that apply</td>\n",
       "    </tr>\n",
       "    <tr>\n",
       "      <th>38</th>\n",
       "      <td>S4</td>\n",
       "      <td>&lt;span style=\"font-size:22px; font-family: arial,helvetica,sans-serif; font-weight: 700;\"&gt;Stack Overflow - usage and community&lt;/span&gt;&lt;br&gt;\\n&lt;br&gt;\\n\\n&lt;p&gt;&lt;span style=\"font-size:16px; font-family:arial,helvetica,sans-serif;\"&gt;This section will focus on Stack Overflow usage and community questions.&lt;br&gt;\\n&lt;br&gt;\\nMost questions in this section are optional. Required questions are noted with *.&lt;/span&gt;&lt;/p&gt;</td>\n",
       "    </tr>\n",
       "    <tr>\n",
       "      <th>39</th>\n",
       "      <td>NEWSOSites</td>\n",
       "      <td>Which of the following Stack Overflow sites have you visited? Select all that apply. *</td>\n",
       "    </tr>\n",
       "    <tr>\n",
       "      <th>40</th>\n",
       "      <td>SOVisitFreq</td>\n",
       "      <td>How frequently would you say you visit Stack Overflow?</td>\n",
       "    </tr>\n",
       "    <tr>\n",
       "      <th>41</th>\n",
       "      <td>SOAccount</td>\n",
       "      <td>Do you have a Stack Overflow account?</td>\n",
       "    </tr>\n",
       "    <tr>\n",
       "      <th>42</th>\n",
       "      <td>SOPartFreq</td>\n",
       "      <td>How frequently would you say you participate in Q&amp;amp;A on Stack Overflow? By participate we mean ask, answer, vote for, or comment on questions.</td>\n",
       "    </tr>\n",
       "    <tr>\n",
       "      <th>43</th>\n",
       "      <td>SOComm</td>\n",
       "      <td>Do you consider yourself a member of the Stack Overflow community?</td>\n",
       "    </tr>\n",
       "    <tr>\n",
       "      <th>44</th>\n",
       "      <td>S5</td>\n",
       "      <td>&lt;span style=\"font-size:22px; font-family: arial,helvetica,sans-serif; font-weight: 700;\"&gt;Artificial Intelligence (AI)&lt;/span&gt;&lt;br&gt;\\n&lt;br&gt;\\n\\n&lt;p&gt;&lt;span style=\"font-size:16px; font-family:arial,helvetica,sans-serif;\"&gt;This section will focus on AI usage and sentiment&lt;/span&gt;&lt;span style=\"font-family: arial, helvetica, sans-serif; font-size: 16px;\"&gt;.&lt;/span&gt;&lt;/p&gt;&lt;p&gt;&lt;span style=\"font-size:16px; font-family:arial,helvetica,sans-serif;\"&gt;\\n&lt;br&gt;\\nMost questions in this section are optional. Required questions are noted with *.&lt;/span&gt;&lt;/p&gt;</td>\n",
       "    </tr>\n",
       "    <tr>\n",
       "      <th>45</th>\n",
       "      <td>SOAI</td>\n",
       "      <td>Artificial Intelligence (AI) tools have gained prominence recently across industries. The following question asks for your perspective on Stack Overflow using AI technology to improve the current experience, for example by using AI to suggest better titles for your question. For your response, consider these sorts of improvements to the experience with/on Stack Overflow and not the presence or absence of content generated by AI and posted on Stack Overflow. &lt;br&gt;&lt;br&gt;What is your opinion on Stack Overflow using AI tools to improve the current experience? What could AI help with most to improve Stack Overflow?</td>\n",
       "    </tr>\n",
       "    <tr>\n",
       "      <th>46</th>\n",
       "      <td>AISelect</td>\n",
       "      <td>Do you currently use AI tools in your development process? *</td>\n",
       "    </tr>\n",
       "    <tr>\n",
       "      <th>47</th>\n",
       "      <td>AISent</td>\n",
       "      <td>How favorable is your stance on using AI tools as part of your development workflow?</td>\n",
       "    </tr>\n",
       "    <tr>\n",
       "      <th>48</th>\n",
       "      <td>AIAcc</td>\n",
       "      <td>For the AI tools you use as part of your development workflow, what are the MOST important benefits you are hoping to achieve? Please check all that apply.</td>\n",
       "    </tr>\n",
       "    <tr>\n",
       "      <th>49</th>\n",
       "      <td>AIBen</td>\n",
       "      <td>How much do you trust the accuracy of the output from AI tools as part of your development workflow?</td>\n",
       "    </tr>\n",
       "    <tr>\n",
       "      <th>50</th>\n",
       "      <td>AITool</td>\n",
       "      <td>Which parts of your development workflow are you currently using AI tools for and which are you interested in using AI tools for over the next year?  Please select all that apply.</td>\n",
       "    </tr>\n",
       "    <tr>\n",
       "      <th>51</th>\n",
       "      <td>AINext</td>\n",
       "      <td>Thinking about how your workflow and process changes over time, how similar or different do you anticipate your workflow to be 1 year from now as a result of AI tools you are currently using?</td>\n",
       "    </tr>\n",
       "    <tr>\n",
       "      <th>52</th>\n",
       "      <td>AIOpen</td>\n",
       "      <td>Please describe how you would expect your workflow to be different, if at all, in 1 year as a result of AI advancements.</td>\n",
       "    </tr>\n",
       "    <tr>\n",
       "      <th>53</th>\n",
       "      <td>S6</td>\n",
       "      <td>&lt;span style=\"font-size:22px; font-family: arial,helvetica,sans-serif; font-weight: 700;\"&gt;Professional Developer Series&lt;/span&gt;&lt;br&gt;\\n \\n&lt;p&gt;&lt;span style=\"font-size: 16px;\"&gt;&lt;/span&gt;&lt;/p&gt;In one of our previous pulse surveys, we saw that people valued being productive and having growth opportunities at work. By adding a &lt;b&gt;Professional Developer Series &lt;/b&gt;to the survey we want to better understand the things that may impact your productivity and opportunities to learn. &lt;br&gt;&lt;br&gt;Like the rest of the survey, your responses are completely anonymous.  Most questions in this section are optional. Required questions are noted with *.&lt;p&gt;&lt;span style=\"font-size: 16px;\"&gt;&lt;/span&gt;&lt;/p&gt;\\n\\n&lt;p&gt; &lt;/p&gt;\\n\\n&lt;p&gt;&lt;span style=\"font-size: 16px;\"&gt;Blog post - &lt;a href=\"https://stackoverflow.blog/2021/12/07/new-data-what-developers-look-for-in-future-job-opportunities/\"&gt;New data: What developers look for in future job opportunities&lt;/a&gt; - December 7, 2021&lt;/span&gt;&lt;/p&gt;</td>\n",
       "    </tr>\n",
       "    <tr>\n",
       "      <th>54</th>\n",
       "      <td>TBranch</td>\n",
       "      <td>&lt;span style=\"font-size:16px;\"&gt;Would you like to participate in the Professional Developer Series? *&lt;/span&gt;</td>\n",
       "    </tr>\n",
       "    <tr>\n",
       "      <th>55</th>\n",
       "      <td>ICorPM</td>\n",
       "      <td>Are you an individual contributor or people manager?</td>\n",
       "    </tr>\n",
       "    <tr>\n",
       "      <th>56</th>\n",
       "      <td>WorkExp</td>\n",
       "      <td>How many years of working experience do you have?</td>\n",
       "    </tr>\n",
       "    <tr>\n",
       "      <th>57</th>\n",
       "      <td>Knowledge</td>\n",
       "      <td>Please rate your level of agreement with the following statement:</td>\n",
       "    </tr>\n",
       "    <tr>\n",
       "      <th>58</th>\n",
       "      <td>Frequency</td>\n",
       "      <td>How frequently do you experience each of the following?</td>\n",
       "    </tr>\n",
       "    <tr>\n",
       "      <th>59</th>\n",
       "      <td>TimeSearching</td>\n",
       "      <td>On an average day, how much time do you typically spend searching for answers or solutions to problems you encounter at work? (This includes time spent searching on your own, asking a colleague, and waiting for a response).</td>\n",
       "    </tr>\n",
       "    <tr>\n",
       "      <th>60</th>\n",
       "      <td>TimeAnswering</td>\n",
       "      <td>On an average day, how much time do you typically spend answering questions you get asked at work?</td>\n",
       "    </tr>\n",
       "    <tr>\n",
       "      <th>61</th>\n",
       "      <td>ProfessionalTech</td>\n",
       "      <td>My company has:</td>\n",
       "    </tr>\n",
       "    <tr>\n",
       "      <th>62</th>\n",
       "      <td>Industry</td>\n",
       "      <td>What industry is the company you work for in?</td>\n",
       "    </tr>\n",
       "    <tr>\n",
       "      <th>63</th>\n",
       "      <td>SOTeamsUsage</td>\n",
       "      <td>Does your team use Stack Overflow for Teams?</td>\n",
       "    </tr>\n",
       "    <tr>\n",
       "      <th>64</th>\n",
       "      <td>S7</td>\n",
       "      <td>&lt;span style=\"font-size:22px;\"&gt;&lt;strong&gt;Final Questions&lt;/strong&gt;&lt;/span&gt;&lt;div&gt;&lt;br&gt;&lt;/div&gt;</td>\n",
       "    </tr>\n",
       "    <tr>\n",
       "      <th>65</th>\n",
       "      <td>SurveyLength</td>\n",
       "      <td>How do you feel about the length of the survey this year?</td>\n",
       "    </tr>\n",
       "    <tr>\n",
       "      <th>66</th>\n",
       "      <td>SurveyEase</td>\n",
       "      <td>How easy or difficult was this survey to complete?</td>\n",
       "    </tr>\n",
       "    <tr>\n",
       "      <th>67</th>\n",
       "      <td>Knowledge_1</td>\n",
       "      <td>I have interactions with people outside of my immediate team.</td>\n",
       "    </tr>\n",
       "    <tr>\n",
       "      <th>68</th>\n",
       "      <td>Knowledge_2</td>\n",
       "      <td>Knowledge silos prevent me from getting ideas across the organization (i.e., one individual or team has information that isn't shared with others)</td>\n",
       "    </tr>\n",
       "    <tr>\n",
       "      <th>69</th>\n",
       "      <td>Knowledge_3</td>\n",
       "      <td>I can find up-to-date information within my organization to help me do my job.</td>\n",
       "    </tr>\n",
       "    <tr>\n",
       "      <th>70</th>\n",
       "      <td>Knowledge_4</td>\n",
       "      <td>I am able to quickly find answers to my questions with existing tools and resources.</td>\n",
       "    </tr>\n",
       "    <tr>\n",
       "      <th>71</th>\n",
       "      <td>Knowledge_5</td>\n",
       "      <td>I know which system or resource to use to find information and answers to questions I have.</td>\n",
       "    </tr>\n",
       "    <tr>\n",
       "      <th>72</th>\n",
       "      <td>Knowledge_6</td>\n",
       "      <td>I often find myself answering questions that I’ve already answered before.</td>\n",
       "    </tr>\n",
       "    <tr>\n",
       "      <th>73</th>\n",
       "      <td>Knowledge_7</td>\n",
       "      <td>Waiting on answers to questions often causes interruptions and disrupts my workflow.</td>\n",
       "    </tr>\n",
       "    <tr>\n",
       "      <th>74</th>\n",
       "      <td>Knowledge_8</td>\n",
       "      <td>I feel like I have the tools and/or resources to quickly understand and work on any area of my company's code/system/platform.</td>\n",
       "    </tr>\n",
       "    <tr>\n",
       "      <th>75</th>\n",
       "      <td>Frequency_1</td>\n",
       "      <td>Needing help from people outside of your immediate team?</td>\n",
       "    </tr>\n",
       "    <tr>\n",
       "      <th>76</th>\n",
       "      <td>Frequency_2</td>\n",
       "      <td>Interacting with people outside of your immediate team?</td>\n",
       "    </tr>\n",
       "    <tr>\n",
       "      <th>77</th>\n",
       "      <td>Frequency_3</td>\n",
       "      <td>Encountering knowledge silos (where one individual or team has information that's not shared or distributed with other individuals or teams) at work?</td>\n",
       "    </tr>\n",
       "  </tbody>\n",
       "</table>\n",
       "</div>"
      ],
      "text/plain": [
       "                   qname  \\\n",
       "4                     S1   \n",
       "5             MainBranch   \n",
       "6                    Age   \n",
       "7             Employment   \n",
       "8             RemoteWork   \n",
       "9       CodingActivities   \n",
       "10                    S2   \n",
       "11               EdLevel   \n",
       "12             LearnCode   \n",
       "13       LearnCodeOnline   \n",
       "14  LearnCodeCoursesCert   \n",
       "15             YearsCode   \n",
       "16          YearsCodePro   \n",
       "17               DevType   \n",
       "18               OrgSize   \n",
       "19     PurchaseInfluence   \n",
       "20              TechList   \n",
       "21            BuyNewTool   \n",
       "22               Country   \n",
       "23              Currency   \n",
       "24             CompTotal   \n",
       "25                    S3   \n",
       "26              Language   \n",
       "27              Database   \n",
       "28              Platform   \n",
       "29              Webframe   \n",
       "30              MiscTech   \n",
       "31             ToolsTech   \n",
       "32        NEWCollabTools   \n",
       "33                 OpSys   \n",
       "34      OfficeStackAsync   \n",
       "35       OfficeStackSync   \n",
       "36              AISearch   \n",
       "37                 AIDev   \n",
       "38                    S4   \n",
       "39            NEWSOSites   \n",
       "40           SOVisitFreq   \n",
       "41             SOAccount   \n",
       "42            SOPartFreq   \n",
       "43                SOComm   \n",
       "44                    S5   \n",
       "45                  SOAI   \n",
       "46              AISelect   \n",
       "47                AISent   \n",
       "48                 AIAcc   \n",
       "49                 AIBen   \n",
       "50                AITool   \n",
       "51                AINext   \n",
       "52                AIOpen   \n",
       "53                    S6   \n",
       "54               TBranch   \n",
       "55                ICorPM   \n",
       "56               WorkExp   \n",
       "57             Knowledge   \n",
       "58             Frequency   \n",
       "59         TimeSearching   \n",
       "60         TimeAnswering   \n",
       "61      ProfessionalTech   \n",
       "62              Industry   \n",
       "63          SOTeamsUsage   \n",
       "64                    S7   \n",
       "65          SurveyLength   \n",
       "66            SurveyEase   \n",
       "67           Knowledge_1   \n",
       "68           Knowledge_2   \n",
       "69           Knowledge_3   \n",
       "70           Knowledge_4   \n",
       "71           Knowledge_5   \n",
       "72           Knowledge_6   \n",
       "73           Knowledge_7   \n",
       "74           Knowledge_8   \n",
       "75           Frequency_1   \n",
       "76           Frequency_2   \n",
       "77           Frequency_3   \n",
       "\n",
       "                                                                                                                                                                                                                                                                                                                                                                                                                                                                                                                                                                                                                                                                                                                                                                                                                                                                                                                                                                        question  \n",
       "4                                                                                                                                                                                                                                                                                                                                                                                                                                                                                                                                                                                        <span style=\"font-size:22px; font-family: arial,helvetica,sans-serif; font-weight: 700;\">Basic Information</span><br>\\n<br>\\n<p><span style=\"font-size:16px; font-family:arial,helvetica,sans-serif;\">The first section will focus on some basic information about who you are.<br>\\n<br>\\nMost questions in this section are required. Required questions are noted with *.</span></p>  \n",
       "5                                                                                                                                                                                                                                                                                                                                                                                                                                                                                                                                                                                                                                                                                                                                                                                                                                           Which of the following options best describes you today? For the purpose of this survey, a developer is \"someone who writes code\". *  \n",
       "6                                                                                                                                                                                                                                                                                                                                                                                                                                                                                                                                                                                                                                                                                                                                                                                                                                                                                                                                                            What is your age? *  \n",
       "7                                                                                                                                                                                                                                                                                                                                                                                                                                                                                                                                                                                                                                                                                                                                                                                                                                                                                   Which of the following best describes your current employment status? Select all that apply.  \n",
       "8                                                                                                                                                                                                                                                                                                                                                                                                                                                                                                                                                                                                                                                                                                                                                                                                                                                                                                                              Which best describes your current work situation?  \n",
       "9                                                                                                                                                                                                                                                                                                                                                                                                                                                                                                                                                                                                                                                                                                                                                                                                                                                                               Which of the following best describes the code you write outside of work? Select all that apply.  \n",
       "10                                                                                                                                                                                                                                                                                                                                                                                                                                                                                                                                                                                       <span style=\"font-size:22px; font-family: arial,helvetica,sans-serif; font-weight: 700;\">Education, work, and career</span><br />\\n \\n<p><span style=\"font-size:16px; font-family:arial,helvetica,sans-serif;\">This section will focus on your education, work, and career.<br />\\n<br />\\nMost questions in this section are optional. Required questions are noted with *.</span></p>  \n",
       "11                                                                                                                                                                                                                                                                                                                                                                                                                                                                                                                                                                                                                                                                                                                                                                                                                                                                          Which of the following best describes the highest level of formal education that you’ve completed? *  \n",
       "12                                                                                                                                                                                                                                                                                                                                                                                                                                                                                                                                                                                                                                                                                                                                                                                                                                                                                                                              How do you learn to code? Select all that apply.  \n",
       "13                                                                                                                                                                                                                                                                                                                                                                                                                                                                                                                                                                                                                                                                                                                                                                                                                                                                                                     What online resources do you use to learn to code? Select all that apply.  \n",
       "14                                                                                                                                                                                                                                                                                                                                                                                                                                                                                                                                                                                                                                                                                                                                                                                                                                                                                     What online courses or certifications do you use to learn to code? Select all that apply.  \n",
       "15                                                                                                                                                                                                                                                                                                                                                                                                                                                                                                                                                                                                                                                                                                                                                                                                                                                                                                        Including any education, how many years have you been coding in total?  \n",
       "16                                                                                                                                                                                                                                                                                                                                                                                                                                                                                                                                                                                                                                                                                                                                                                                                                                                                               NOT including education, how many years have you coded professionally (as a part of your work)?  \n",
       "17                                                                                                                                                                                                                                                                                                                                                                                                                                                                                                                                                                                                                                                                                                                                                                                                                                                                   Which of the following describes your current job, the one you do most of the time? Please select only one.  \n",
       "18                                                                                                                                                                                                                                                                                                                                                                                                                                                                                                                                                                                                                                                                                                                                                               Approximately how many people are employed by the company or organization you currently work for?  This should only include your primary company, and not the entire holding or parent company if that applies.  \n",
       "19                                                                                                                                                                                                                                                                                                                                                                                                                                                                                                                                                                                                                                                                                                                                                                                                                                                                          What level of influence do you, personally, have over new technology purchases at your organization?  \n",
       "20                                                                                                                                                                                                                                                                                                                                                                                                                                                                                                                                                                                                                                                                                                                                                                                       When thinking about new technology purchases at your organization, are you more likely to be given a short list of products/services to evaluate or be told to investigate on your own?  \n",
       "21                                                                                                                                                                                                                                                                                                                                                                                                                                                                                                                                                                                                                                                                                                                                                                                                                                                              When buying a new tool or software, how do you discover and research available solutions? Select all that apply.  \n",
       "22                                                                                                                                                                                                                                                                                                                                                                                                                                                                                                                                                                                                                                                                                                                                                                                                                                                                                                                Where do you live? <span style=\"font-weight: bolder;\">*</span>  \n",
       "23                                                                                                                                                                                                                                                                                                                                                                                                                                                                                                                                                                                                                                                                                                                                                                                                                                             Which currency do you use day-to-day? If your answer is complicated, please pick the one you're most comfortable estimating in. *  \n",
       "24                                                                                                                                                                                                                                                                                                                                                                                                                                                                                                                                                                                                                                                        What is your current total <b>annual</b> compensation (salary, bonuses, and perks, before taxes and deductions)? Please enter a whole number in the box below, without any punctuation.  If you are paid hourly, please estimate an equivalent yearly salary. If you prefer not to answer, please leave the box empty.  \n",
       "25                                                                                                                                                                                                                                                                                                                                                                                                                                                                                                                                                                                      <span style=\"font-size:22px; font-family: arial,helvetica,sans-serif; font-weight: 700;\">Tech and tech culture</span><br>\\n<br>\\n\\n<p><span style=\"font-size:16px; font-family:arial,helvetica,sans-serif;\">The next set of questions will focus on technology and tech culture.<br>\\n<br>\\nMost questions in this section are optional. Required questions are noted with *.</span></p>  \n",
       "26                                                                                                                                                                                                                                                                                                                                                                                                                                                                                                                                                                                                                                                                                     Which <b>programming, scripting, and markup languages</b> have you done extensive development work in over the past year, and which do you want to work in over the next year? (If you both worked with the language and want to continue to do so, please check both boxes in that row.)  \n",
       "27                                                                                                                                                                                                                                                                                                                                                                                                                                                                                                                                                                                                                                                                                                            Which <b>database environments </b>have you done extensive development work in over the past year, and which do you want to work in over the next year? (If you both worked with the database and want to continue to do so, please check both boxes in that row.)  \n",
       "28                                                                                                                                                                                                                                                                                                                                                                                                                                                                                                                                                                                                                                                                                                                  Which <b>cloud platforms</b> have you done extensive development work in over the past year, and which do you want to work in over the next year? (If you both worked with the platform and want to continue to do so, please check both boxes in that row.)  \n",
       "29                                                                                                                                                                                                                                                                                                                                                                                                                                                                                                                                                                                                                                                                                             Which <b>web frameworks and web technologies</b> have you done extensive development work in over the past year, and which do you want to work in over the next year? (If you both worked with the framework and want to continue to do so, please check both boxes in that row.)  \n",
       "30                                                                                                                                                                                                                                                                                                                                                                                                                                                                                                                                                                                                                                                                                                  Which <b>other frameworks and libraries</b> have you done extensive development work in over the past year, and which do you want to work in over the next year? (If you both worked with the framework and want to continue to do so, please check both boxes in that row.)  \n",
       "31                                                                                                                                                                                                                                                                                                                                                                                                                                                                                                                                                                                                                                                           Which <b>developer </b><strong>tools for compiling, building and testing</strong> have you done extensive development work in over the past year, and which do you want to work in over the next year? (If you both worked with the technology and want to continue to do so, please check both boxes in that row.)  \n",
       "32                                                                                                                                                                                                                                                                                                                                                                                                                                                                                                                                                                                                                                                                                                                                                                                                 Which <strong>development environments</strong> did you use regularly over the past year, and which do you want to work with over the next year? Please check all that apply.  \n",
       "33                                                                                                                                                                                                                                                                                                                                                                                                                                                                                                                                                                                                                                                                                                                                                                                                                                                                                                               What is the primary <b>operating system</b> in which you work?   \n",
       "34                                                                                                                                                                                                                                                                                                                                                                                                                                                                                                                                                                                                                                                                                                                                                                             Which <b>collaborative work management and/or code documentation tools</b> did you use regularly over the past year, and which do you want to work with over the next year? Select all that apply  \n",
       "35                                                                                                                                                                                                                                                                                                                                                                                                                                                                                                                                                                                                                                                                                                                                                                                                                       Which <b>communication tools</b> did you use regularly over the past year, and which do you want to work with over the next year? Select all that apply  \n",
       "36                                                                                                                                                                                                                                                                                                                                                                                                                                                                                                                                                                                                                                                                                                                                                                                                                  Which <b>AI-powered search tools</b> did you use regularly over the past year, and which do you want to work with over the next year? Select all that apply.  \n",
       "37                                                                                                                                                                                                                                                                                                                                                                                                                                                                                                                                                                                                                                                                                                                                                                                                                Which <b>AI-powered developer tools</b> did you use regularly over the past year, and which do you want to work with over the next year? Select all that apply  \n",
       "38                                                                                                                                                                                                                                                                                                                                                                                                                                                                                                                                                                   <span style=\"font-size:22px; font-family: arial,helvetica,sans-serif; font-weight: 700;\">Stack Overflow - usage and community</span><br>\\n<br>\\n\\n<p><span style=\"font-size:16px; font-family:arial,helvetica,sans-serif;\">This section will focus on Stack Overflow usage and community questions.<br>\\n<br>\\nMost questions in this section are optional. Required questions are noted with *.</span></p>  \n",
       "39                                                                                                                                                                                                                                                                                                                                                                                                                                                                                                                                                                                                                                                                                                                                                                                                                                                                                        Which of the following Stack Overflow sites have you visited? Select all that apply. *  \n",
       "40                                                                                                                                                                                                                                                                                                                                                                                                                                                                                                                                                                                                                                                                                                                                                                                                                                                                                                                        How frequently would you say you visit Stack Overflow?  \n",
       "41                                                                                                                                                                                                                                                                                                                                                                                                                                                                                                                                                                                                                                                                                                                                                                                                                                                                                                                                         Do you have a Stack Overflow account?  \n",
       "42                                                                                                                                                                                                                                                                                                                                                                                                                                                                                                                                                                                                                                                                                                                                                                                                                             How frequently would you say you participate in Q&amp;A on Stack Overflow? By participate we mean ask, answer, vote for, or comment on questions.  \n",
       "43                                                                                                                                                                                                                                                                                                                                                                                                                                                                                                                                                                                                                                                                                                                                                                                                                                                                                                            Do you consider yourself a member of the Stack Overflow community?  \n",
       "44                                                                                                                                                                                                                                                                                                                                                                                                                                <span style=\"font-size:22px; font-family: arial,helvetica,sans-serif; font-weight: 700;\">Artificial Intelligence (AI)</span><br>\\n<br>\\n\\n<p><span style=\"font-size:16px; font-family:arial,helvetica,sans-serif;\">This section will focus on AI usage and sentiment</span><span style=\"font-family: arial, helvetica, sans-serif; font-size: 16px;\">.</span></p><p><span style=\"font-size:16px; font-family:arial,helvetica,sans-serif;\">\\n<br>\\nMost questions in this section are optional. Required questions are noted with *.</span></p>  \n",
       "45                                                                                                                                                                                                                                                                                                                                        Artificial Intelligence (AI) tools have gained prominence recently across industries. The following question asks for your perspective on Stack Overflow using AI technology to improve the current experience, for example by using AI to suggest better titles for your question. For your response, consider these sorts of improvements to the experience with/on Stack Overflow and not the presence or absence of content generated by AI and posted on Stack Overflow. <br><br>What is your opinion on Stack Overflow using AI tools to improve the current experience? What could AI help with most to improve Stack Overflow?  \n",
       "46                                                                                                                                                                                                                                                                                                                                                                                                                                                                                                                                                                                                                                                                                                                                                                                                                                                                                                                  Do you currently use AI tools in your development process? *  \n",
       "47                                                                                                                                                                                                                                                                                                                                                                                                                                                                                                                                                                                                                                                                                                                                                                                                                                                                                          How favorable is your stance on using AI tools as part of your development workflow?  \n",
       "48                                                                                                                                                                                                                                                                                                                                                                                                                                                                                                                                                                                                                                                                                                                                                                                                                   For the AI tools you use as part of your development workflow, what are the MOST important benefits you are hoping to achieve? Please check all that apply.  \n",
       "49                                                                                                                                                                                                                                                                                                                                                                                                                                                                                                                                                                                                                                                                                                                                                                                                                                                                          How much do you trust the accuracy of the output from AI tools as part of your development workflow?  \n",
       "50                                                                                                                                                                                                                                                                                                                                                                                                                                                                                                                                                                                                                                                                                                                                                                                           Which parts of your development workflow are you currently using AI tools for and which are you interested in using AI tools for over the next year?  Please select all that apply.  \n",
       "51                                                                                                                                                                                                                                                                                                                                                                                                                                                                                                                                                                                                                                                                                                                                                                               Thinking about how your workflow and process changes over time, how similar or different do you anticipate your workflow to be 1 year from now as a result of AI tools you are currently using?  \n",
       "52                                                                                                                                                                                                                                                                                                                                                                                                                                                                                                                                                                                                                                                                                                                                                                                                                                                      Please describe how you would expect your workflow to be different, if at all, in 1 year as a result of AI advancements.  \n",
       "53  <span style=\"font-size:22px; font-family: arial,helvetica,sans-serif; font-weight: 700;\">Professional Developer Series</span><br>\\n \\n<p><span style=\"font-size: 16px;\"></span></p>In one of our previous pulse surveys, we saw that people valued being productive and having growth opportunities at work. By adding a <b>Professional Developer Series </b>to the survey we want to better understand the things that may impact your productivity and opportunities to learn. <br><br>Like the rest of the survey, your responses are completely anonymous.  Most questions in this section are optional. Required questions are noted with *.<p><span style=\"font-size: 16px;\"></span></p>\\n\\n<p> </p>\\n\\n<p><span style=\"font-size: 16px;\">Blog post - <a href=\"https://stackoverflow.blog/2021/12/07/new-data-what-developers-look-for-in-future-job-opportunities/\">New data: What developers look for in future job opportunities</a> - December 7, 2021</span></p>  \n",
       "54                                                                                                                                                                                                                                                                                                                                                                                                                                                                                                                                                                                                                                                                                                                                                                                                                                                                    <span style=\"font-size:16px;\">Would you like to participate in the Professional Developer Series? *</span>  \n",
       "55                                                                                                                                                                                                                                                                                                                                                                                                                                                                                                                                                                                                                                                                                                                                                                                                                                                                                                                          Are you an individual contributor or people manager?  \n",
       "56                                                                                                                                                                                                                                                                                                                                                                                                                                                                                                                                                                                                                                                                                                                                                                                                                                                                                                                             How many years of working experience do you have?  \n",
       "57                                                                                                                                                                                                                                                                                                                                                                                                                                                                                                                                                                                                                                                                                                                                                                                                                                                                                                             Please rate your level of agreement with the following statement:  \n",
       "58                                                                                                                                                                                                                                                                                                                                                                                                                                                                                                                                                                                                                                                                                                                                                                                                                                                                                                                       How frequently do you experience each of the following?  \n",
       "59                                                                                                                                                                                                                                                                                                                                                                                                                                                                                                                                                                                                                                                                                                                                               On an average day, how much time do you typically spend searching for answers or solutions to problems you encounter at work? (This includes time spent searching on your own, asking a colleague, and waiting for a response).  \n",
       "60                                                                                                                                                                                                                                                                                                                                                                                                                                                                                                                                                                                                                                                                                                                                                                                                                                                                            On an average day, how much time do you typically spend answering questions you get asked at work?  \n",
       "61                                                                                                                                                                                                                                                                                                                                                                                                                                                                                                                                                                                                                                                                                                                                                                                                                                                                                                                                                               My company has:  \n",
       "62                                                                                                                                                                                                                                                                                                                                                                                                                                                                                                                                                                                                                                                                                                                                                                                                                                                                                                                                 What industry is the company you work for in?  \n",
       "63                                                                                                                                                                                                                                                                                                                                                                                                                                                                                                                                                                                                                                                                                                                                                                                                                                                                                                                                  Does your team use Stack Overflow for Teams?  \n",
       "64                                                                                                                                                                                                                                                                                                                                                                                                                                                                                                                                                                                                                                                                                                                                                                                                                                                                                          <span style=\"font-size:22px;\"><strong>Final Questions</strong></span><div><br></div>  \n",
       "65                                                                                                                                                                                                                                                                                                                                                                                                                                                                                                                                                                                                                                                                                                                                                                                                                                                                                                                     How do you feel about the length of the survey this year?  \n",
       "66                                                                                                                                                                                                                                                                                                                                                                                                                                                                                                                                                                                                                                                                                                                                                                                                                                                                                                                            How easy or difficult was this survey to complete?  \n",
       "67                                                                                                                                                                                                                                                                                                                                                                                                                                                                                                                                                                                                                                                                                                                                                                                                                                                                                                                 I have interactions with people outside of my immediate team.  \n",
       "68                                                                                                                                                                                                                                                                                                                                                                                                                                                                                                                                                                                                                                                                                                                                                                                                                            Knowledge silos prevent me from getting ideas across the organization (i.e., one individual or team has information that isn't shared with others)  \n",
       "69                                                                                                                                                                                                                                                                                                                                                                                                                                                                                                                                                                                                                                                                                                                                                                                                                                                                                                I can find up-to-date information within my organization to help me do my job.  \n",
       "70                                                                                                                                                                                                                                                                                                                                                                                                                                                                                                                                                                                                                                                                                                                                                                                                                                                                                          I am able to quickly find answers to my questions with existing tools and resources.  \n",
       "71                                                                                                                                                                                                                                                                                                                                                                                                                                                                                                                                                                                                                                                                                                                                                                                                                                                                                   I know which system or resource to use to find information and answers to questions I have.  \n",
       "72                                                                                                                                                                                                                                                                                                                                                                                                                                                                                                                                                                                                                                                                                                                                                                                                                                                                                                    I often find myself answering questions that I’ve already answered before.  \n",
       "73                                                                                                                                                                                                                                                                                                                                                                                                                                                                                                                                                                                                                                                                                                                                                                                                                                                                                          Waiting on answers to questions often causes interruptions and disrupts my workflow.  \n",
       "74                                                                                                                                                                                                                                                                                                                                                                                                                                                                                                                                                                                                                                                                                                                                                                                                                                                I feel like I have the tools and/or resources to quickly understand and work on any area of my company's code/system/platform.  \n",
       "75                                                                                                                                                                                                                                                                                                                                                                                                                                                                                                                                                                                                                                                                                                                                                                                                                                                                                                                      Needing help from people outside of your immediate team?  \n",
       "76                                                                                                                                                                                                                                                                                                                                                                                                                                                                                                                                                                                                                                                                                                                                                                                                                                                                                                                       Interacting with people outside of your immediate team?  \n",
       "77                                                                                                                                                                                                                                                                                                                                                                                                                                                                                                                                                                                                                                                                                                                                                                                                                         Encountering knowledge silos (where one individual or team has information that's not shared or distributed with other individuals or teams) at work?  "
      ]
     },
     "execution_count": 4,
     "metadata": {},
     "output_type": "execute_result"
    }
   ],
   "source": [
    "# Load the schema file\n",
    "schema = pd.read_csv(\"stack-overflow-developer-survey-2023/survey_results_schema.csv\")\n",
    "\n",
    "# To prevent truncation of columns, change the default options\n",
    "pd.set_option('display.max_colwidth', None)\n",
    "\n",
    "# To prevent truncation of cells, change the default options \n",
    "pd.set_option('display.max_rows', None)\n",
    "\n",
    "schema[[\"qname\", \"question\"]][4:]"
   ]
  },
  {
   "cell_type": "markdown",
   "metadata": {},
   "source": [
    "\n",
    "<img src=\"images/green-divider.png\" style=\"width: 100%;\" />\n"
   ]
  },
  {
   "cell_type": "markdown",
   "metadata": {},
   "source": [
    "## Whats the top compensation in each industry field? \n",
    "\n",
    "The listed compensation values aren't all in the same currency. As the survey lists 144 different currencies it would be a huge task to find the exchange rate for each currency to, say EUR.  \n",
    "Instead I chose the 10 most popular currencies listed that amount to a cumulative coverage of 80% of the total dataset.  \n",
    "For these 10 currencies I applied exchange rates to EUR to get a better picture of how the compensations compare to each other"
   ]
  },
  {
   "cell_type": "code",
   "execution_count": 5,
   "metadata": {},
   "outputs": [
    {
     "data": {
      "text/plain": [
       "144"
      ]
     },
     "metadata": {},
     "output_type": "display_data"
    },
    {
     "name": "stdout",
     "output_type": "stream",
     "text": [
      "Number of top currencies needed for 80% coverage: 10\n"
     ]
    },
    {
     "data": {
      "text/plain": [
       "Currency\n",
       "EUR European Euro            17651\n",
       "USD\\tUnited States dollar    16729\n",
       "GBP\\tPound sterling           4473\n",
       "INR\\tIndian rupee             3615\n",
       "CAD\\tCanadian dollar          2647\n",
       "PLN\\tPolish zloty             1606\n",
       "AUD\\tAustralian dollar        1594\n",
       "BRL\\tBrazilian real           1475\n",
       "SEK\\tSwedish krona            1324\n",
       "CHF\\tSwiss franc               889\n",
       "Name: count, dtype: int64"
      ]
     },
     "metadata": {},
     "output_type": "display_data"
    }
   ],
   "source": [
    "# How many unique currencies does the dataframe list?\n",
    "display(df[\"Currency\"].nunique()) # 144\n",
    "\n",
    "### How many of the most popular currencies represent a coverage of 80% of the total dataset?\n",
    "\n",
    "# Calculate the value counts of each currency\n",
    "currency_counts = df[\"Currency\"].value_counts()\n",
    "\n",
    "# Sort the currency counts in descending order\n",
    "currency_counts_sorted = currency_counts.sort_values(ascending=False)\n",
    "\n",
    "# Calculate the cumulative sum of the sorted counts\n",
    "cumulative_sum = currency_counts_sorted.cumsum()\n",
    "\n",
    "# Find the number of currencies needed for 80% coverage, without NaN entries\n",
    "threshold = 0.8 * (len(df)- df[\"Currency\"].isna().sum()) \n",
    "num_top_currencies = (cumulative_sum <= threshold).sum()\n",
    "\n",
    "top_currencies = df[\"Currency\"].value_counts().head(10)\n",
    "\n",
    "print(f\"Number of top currencies needed for 80% coverage: {num_top_currencies}\")\n",
    "\n",
    "display(df[\"Currency\"].value_counts().head(10))\n"
   ]
  },
  {
   "cell_type": "code",
   "execution_count": 6,
   "metadata": {},
   "outputs": [],
   "source": [
    "# Define exchange rates for the 10 popular currencies to EUR (according to google.com on 24.9.2023)\n",
    "exchange_rates = {\n",
    "    'EUR European Euro': 1.0,  # Base currency (no conversion needed)\n",
    "    'USD\\tUnited States dollar': 0.94,  \n",
    "    'GBP\\tPound sterling  ': 1.15,  \n",
    "    'INR\\tIndian rupee': 0.011,  \n",
    "    'CAD\\tCanadian dollar': 0.7,\n",
    "    'PLN\\tPolish zloty': 0.22,\n",
    "    'AUD\\tAustralian dollar': 0.61,\n",
    "    'BRL\\tBrazilian real': 0.19,\n",
    "    'SEK\\tSwedish krona': 0.084,\n",
    "    'CHF\\tSwiss franc': 1.03\n",
    "}\n",
    "\n",
    "# Create a new column for converted salaries\n",
    "df['Converted_Salary'] = 0.0\n",
    "\n",
    "# Iterate through the DataFrame rows and apply the exchange rates\n",
    "for index, row in df.iterrows():\n",
    "    currency = row['Currency']\n",
    "    salary = row['CompTotal']\n",
    "    if currency in exchange_rates:\n",
    "        conversion_rate = exchange_rates[currency]\n",
    "        converted_salary = salary * conversion_rate\n",
    "        df.at[index, 'Converted_Salary'] = converted_salary"
   ]
  },
  {
   "cell_type": "code",
   "execution_count": 7,
   "metadata": {},
   "outputs": [
    {
     "data": {
      "text/html": [
       "<div>\n",
       "<style scoped>\n",
       "    .dataframe tbody tr th:only-of-type {\n",
       "        vertical-align: middle;\n",
       "    }\n",
       "\n",
       "    .dataframe tbody tr th {\n",
       "        vertical-align: top;\n",
       "    }\n",
       "\n",
       "    .dataframe thead th {\n",
       "        text-align: right;\n",
       "    }\n",
       "</style>\n",
       "<table border=\"1\" class=\"dataframe\">\n",
       "  <thead>\n",
       "    <tr style=\"text-align: right;\">\n",
       "      <th></th>\n",
       "      <th>Currency</th>\n",
       "      <th>CompTotal</th>\n",
       "      <th>Converted_Salary</th>\n",
       "    </tr>\n",
       "  </thead>\n",
       "  <tbody>\n",
       "    <tr>\n",
       "      <th>57424</th>\n",
       "      <td>BRL\\tBrazilian real</td>\n",
       "      <td>222000.0</td>\n",
       "      <td>42180.0</td>\n",
       "    </tr>\n",
       "    <tr>\n",
       "      <th>7073</th>\n",
       "      <td>USD\\tUnited States dollar</td>\n",
       "      <td>166000.0</td>\n",
       "      <td>156040.0</td>\n",
       "    </tr>\n",
       "    <tr>\n",
       "      <th>69639</th>\n",
       "      <td>USD\\tUnited States dollar</td>\n",
       "      <td>185000.0</td>\n",
       "      <td>173900.0</td>\n",
       "    </tr>\n",
       "    <tr>\n",
       "      <th>4155</th>\n",
       "      <td>USD\\tUnited States dollar</td>\n",
       "      <td>80000.0</td>\n",
       "      <td>75200.0</td>\n",
       "    </tr>\n",
       "    <tr>\n",
       "      <th>27878</th>\n",
       "      <td>USD\\tUnited States dollar</td>\n",
       "      <td>95000.0</td>\n",
       "      <td>89300.0</td>\n",
       "    </tr>\n",
       "    <tr>\n",
       "      <th>71122</th>\n",
       "      <td>AUD\\tAustralian dollar</td>\n",
       "      <td>90000.0</td>\n",
       "      <td>54900.0</td>\n",
       "    </tr>\n",
       "    <tr>\n",
       "      <th>13754</th>\n",
       "      <td>EUR European Euro</td>\n",
       "      <td>75000.0</td>\n",
       "      <td>75000.0</td>\n",
       "    </tr>\n",
       "    <tr>\n",
       "      <th>32775</th>\n",
       "      <td>BRL\\tBrazilian real</td>\n",
       "      <td>47190.0</td>\n",
       "      <td>8966.1</td>\n",
       "    </tr>\n",
       "    <tr>\n",
       "      <th>12515</th>\n",
       "      <td>EUR European Euro</td>\n",
       "      <td>17000.0</td>\n",
       "      <td>17000.0</td>\n",
       "    </tr>\n",
       "    <tr>\n",
       "      <th>62380</th>\n",
       "      <td>USD\\tUnited States dollar</td>\n",
       "      <td>165000.0</td>\n",
       "      <td>155100.0</td>\n",
       "    </tr>\n",
       "    <tr>\n",
       "      <th>36337</th>\n",
       "      <td>AUD\\tAustralian dollar</td>\n",
       "      <td>280000.0</td>\n",
       "      <td>170800.0</td>\n",
       "    </tr>\n",
       "    <tr>\n",
       "      <th>34490</th>\n",
       "      <td>EUR European Euro</td>\n",
       "      <td>80000.0</td>\n",
       "      <td>80000.0</td>\n",
       "    </tr>\n",
       "    <tr>\n",
       "      <th>2395</th>\n",
       "      <td>USD\\tUnited States dollar</td>\n",
       "      <td>91000.0</td>\n",
       "      <td>85540.0</td>\n",
       "    </tr>\n",
       "    <tr>\n",
       "      <th>71261</th>\n",
       "      <td>USD\\tUnited States dollar</td>\n",
       "      <td>220000.0</td>\n",
       "      <td>206800.0</td>\n",
       "    </tr>\n",
       "    <tr>\n",
       "      <th>65970</th>\n",
       "      <td>EUR European Euro</td>\n",
       "      <td>50000.0</td>\n",
       "      <td>50000.0</td>\n",
       "    </tr>\n",
       "  </tbody>\n",
       "</table>\n",
       "</div>"
      ],
      "text/plain": [
       "                        Currency  CompTotal  Converted_Salary\n",
       "57424        BRL\\tBrazilian real   222000.0           42180.0\n",
       "7073   USD\\tUnited States dollar   166000.0          156040.0\n",
       "69639  USD\\tUnited States dollar   185000.0          173900.0\n",
       "4155   USD\\tUnited States dollar    80000.0           75200.0\n",
       "27878  USD\\tUnited States dollar    95000.0           89300.0\n",
       "71122     AUD\\tAustralian dollar    90000.0           54900.0\n",
       "13754          EUR European Euro    75000.0           75000.0\n",
       "32775        BRL\\tBrazilian real    47190.0            8966.1\n",
       "12515          EUR European Euro    17000.0           17000.0\n",
       "62380  USD\\tUnited States dollar   165000.0          155100.0\n",
       "36337     AUD\\tAustralian dollar   280000.0          170800.0\n",
       "34490          EUR European Euro    80000.0           80000.0\n",
       "2395   USD\\tUnited States dollar    91000.0           85540.0\n",
       "71261  USD\\tUnited States dollar   220000.0          206800.0\n",
       "65970          EUR European Euro    50000.0           50000.0"
      ]
     },
     "metadata": {},
     "output_type": "display_data"
    }
   ],
   "source": [
    "# Sample 15 random entries that were affected by the exchange rate and show the converted salary\n",
    "converted_currency = df.loc[(df[\"Converted_Salary\"] != 0) &\n",
    "                            (df[\"Converted_Salary\"].notna())]\n",
    "\n",
    "display(converted_currency[[\"Currency\", \"CompTotal\", \"Converted_Salary\"]].sample(15))"
   ]
  },
  {
   "cell_type": "markdown",
   "metadata": {},
   "source": [
    "### Plots\n"
   ]
  },
  {
   "cell_type": "code",
   "execution_count": 47,
   "metadata": {},
   "outputs": [
    {
     "name": "stdout",
     "output_type": "stream",
     "text": [
      "Max compensations per industry field in EUR\n"
     ]
    },
    {
     "data": {
      "text/html": [
       "<div>\n",
       "<style scoped>\n",
       "    .dataframe tbody tr th:only-of-type {\n",
       "        vertical-align: middle;\n",
       "    }\n",
       "\n",
       "    .dataframe tbody tr th {\n",
       "        vertical-align: top;\n",
       "    }\n",
       "\n",
       "    .dataframe thead th {\n",
       "        text-align: right;\n",
       "    }\n",
       "</style>\n",
       "<table border=\"1\" class=\"dataframe\">\n",
       "  <thead>\n",
       "    <tr style=\"text-align: right;\">\n",
       "      <th></th>\n",
       "      <th>Industry</th>\n",
       "      <th>Converted_Salary</th>\n",
       "    </tr>\n",
       "  </thead>\n",
       "  <tbody>\n",
       "    <tr>\n",
       "      <th>0</th>\n",
       "      <td>Advertising Services</td>\n",
       "      <td>7.520000e+05</td>\n",
       "    </tr>\n",
       "    <tr>\n",
       "      <th>1</th>\n",
       "      <td>Financial Services</td>\n",
       "      <td>2.538000e+06</td>\n",
       "    </tr>\n",
       "    <tr>\n",
       "      <th>2</th>\n",
       "      <td>Healthcare</td>\n",
       "      <td>6.999999e+06</td>\n",
       "    </tr>\n",
       "    <tr>\n",
       "      <th>3</th>\n",
       "      <td>Higher Education</td>\n",
       "      <td>9.150000e+05</td>\n",
       "    </tr>\n",
       "    <tr>\n",
       "      <th>4</th>\n",
       "      <td>Information Services, IT, Software Development, or other Technology</td>\n",
       "      <td>9.400000e+15</td>\n",
       "    </tr>\n",
       "    <tr>\n",
       "      <th>5</th>\n",
       "      <td>Insurance</td>\n",
       "      <td>5.000000e+06</td>\n",
       "    </tr>\n",
       "    <tr>\n",
       "      <th>6</th>\n",
       "      <td>Legal Services</td>\n",
       "      <td>8.750000e+05</td>\n",
       "    </tr>\n",
       "    <tr>\n",
       "      <th>7</th>\n",
       "      <td>Manufacturing, Transportation, or Supply Chain</td>\n",
       "      <td>8.460000e+06</td>\n",
       "    </tr>\n",
       "    <tr>\n",
       "      <th>8</th>\n",
       "      <td>Oil &amp; Gas</td>\n",
       "      <td>3.384000e+05</td>\n",
       "    </tr>\n",
       "    <tr>\n",
       "      <th>9</th>\n",
       "      <td>Other</td>\n",
       "      <td>6.930000e+07</td>\n",
       "    </tr>\n",
       "    <tr>\n",
       "      <th>10</th>\n",
       "      <td>Retail and Consumer Services</td>\n",
       "      <td>2.002200e+06</td>\n",
       "    </tr>\n",
       "    <tr>\n",
       "      <th>11</th>\n",
       "      <td>Wholesale</td>\n",
       "      <td>5.886664e+05</td>\n",
       "    </tr>\n",
       "  </tbody>\n",
       "</table>\n",
       "</div>"
      ],
      "text/plain": [
       "                                                               Industry  \\\n",
       "0                                                  Advertising Services   \n",
       "1                                                    Financial Services   \n",
       "2                                                            Healthcare   \n",
       "3                                                      Higher Education   \n",
       "4   Information Services, IT, Software Development, or other Technology   \n",
       "5                                                             Insurance   \n",
       "6                                                        Legal Services   \n",
       "7                        Manufacturing, Transportation, or Supply Chain   \n",
       "8                                                             Oil & Gas   \n",
       "9                                                                 Other   \n",
       "10                                         Retail and Consumer Services   \n",
       "11                                                            Wholesale   \n",
       "\n",
       "    Converted_Salary  \n",
       "0       7.520000e+05  \n",
       "1       2.538000e+06  \n",
       "2       6.999999e+06  \n",
       "3       9.150000e+05  \n",
       "4       9.400000e+15  \n",
       "5       5.000000e+06  \n",
       "6       8.750000e+05  \n",
       "7       8.460000e+06  \n",
       "8       3.384000e+05  \n",
       "9       6.930000e+07  \n",
       "10      2.002200e+06  \n",
       "11      5.886664e+05  "
      ]
     },
     "metadata": {},
     "output_type": "display_data"
    },
    {
     "name": "stdout",
     "output_type": "stream",
     "text": [
      "Top 1% Compensations per industry field in EUR\n"
     ]
    },
    {
     "data": {
      "text/html": [
       "<div>\n",
       "<style scoped>\n",
       "    .dataframe tbody tr th:only-of-type {\n",
       "        vertical-align: middle;\n",
       "    }\n",
       "\n",
       "    .dataframe tbody tr th {\n",
       "        vertical-align: top;\n",
       "    }\n",
       "\n",
       "    .dataframe thead th {\n",
       "        text-align: right;\n",
       "    }\n",
       "</style>\n",
       "<table border=\"1\" class=\"dataframe\">\n",
       "  <thead>\n",
       "    <tr style=\"text-align: right;\">\n",
       "      <th></th>\n",
       "      <th>Industry</th>\n",
       "      <th>Converted_Salary</th>\n",
       "    </tr>\n",
       "  </thead>\n",
       "  <tbody>\n",
       "    <tr>\n",
       "      <th>0</th>\n",
       "      <td>Advertising Services</td>\n",
       "      <td>470000.00</td>\n",
       "    </tr>\n",
       "    <tr>\n",
       "      <th>1</th>\n",
       "      <td>Financial Services</td>\n",
       "      <td>475828.00</td>\n",
       "    </tr>\n",
       "    <tr>\n",
       "      <th>2</th>\n",
       "      <td>Healthcare</td>\n",
       "      <td>282733.20</td>\n",
       "    </tr>\n",
       "    <tr>\n",
       "      <th>3</th>\n",
       "      <td>Higher Education</td>\n",
       "      <td>228702.00</td>\n",
       "    </tr>\n",
       "    <tr>\n",
       "      <th>4</th>\n",
       "      <td>Information Services, IT, Software Development, or other Technology</td>\n",
       "      <td>376000.00</td>\n",
       "    </tr>\n",
       "    <tr>\n",
       "      <th>5</th>\n",
       "      <td>Insurance</td>\n",
       "      <td>278804.00</td>\n",
       "    </tr>\n",
       "    <tr>\n",
       "      <th>6</th>\n",
       "      <td>Legal Services</td>\n",
       "      <td>249476.00</td>\n",
       "    </tr>\n",
       "    <tr>\n",
       "      <th>7</th>\n",
       "      <td>Manufacturing, Transportation, or Supply Chain</td>\n",
       "      <td>339434.00</td>\n",
       "    </tr>\n",
       "    <tr>\n",
       "      <th>8</th>\n",
       "      <td>Oil &amp; Gas</td>\n",
       "      <td>303150.00</td>\n",
       "    </tr>\n",
       "    <tr>\n",
       "      <th>9</th>\n",
       "      <td>Other</td>\n",
       "      <td>387832.72</td>\n",
       "    </tr>\n",
       "    <tr>\n",
       "      <th>10</th>\n",
       "      <td>Retail and Consumer Services</td>\n",
       "      <td>329000.00</td>\n",
       "    </tr>\n",
       "    <tr>\n",
       "      <th>11</th>\n",
       "      <td>Wholesale</td>\n",
       "      <td>252683.32</td>\n",
       "    </tr>\n",
       "  </tbody>\n",
       "</table>\n",
       "</div>"
      ],
      "text/plain": [
       "                                                               Industry  \\\n",
       "0                                                  Advertising Services   \n",
       "1                                                    Financial Services   \n",
       "2                                                            Healthcare   \n",
       "3                                                      Higher Education   \n",
       "4   Information Services, IT, Software Development, or other Technology   \n",
       "5                                                             Insurance   \n",
       "6                                                        Legal Services   \n",
       "7                        Manufacturing, Transportation, or Supply Chain   \n",
       "8                                                             Oil & Gas   \n",
       "9                                                                 Other   \n",
       "10                                         Retail and Consumer Services   \n",
       "11                                                            Wholesale   \n",
       "\n",
       "    Converted_Salary  \n",
       "0          470000.00  \n",
       "1          475828.00  \n",
       "2          282733.20  \n",
       "3          228702.00  \n",
       "4          376000.00  \n",
       "5          278804.00  \n",
       "6          249476.00  \n",
       "7          339434.00  \n",
       "8          303150.00  \n",
       "9          387832.72  \n",
       "10         329000.00  \n",
       "11         252683.32  "
      ]
     },
     "metadata": {},
     "output_type": "display_data"
    },
    {
     "name": "stdout",
     "output_type": "stream",
     "text": [
      "Median Compensations per industry field in EUR\n"
     ]
    },
    {
     "data": {
      "text/html": [
       "<div>\n",
       "<style scoped>\n",
       "    .dataframe tbody tr th:only-of-type {\n",
       "        vertical-align: middle;\n",
       "    }\n",
       "\n",
       "    .dataframe tbody tr th {\n",
       "        vertical-align: top;\n",
       "    }\n",
       "\n",
       "    .dataframe thead th {\n",
       "        text-align: right;\n",
       "    }\n",
       "</style>\n",
       "<table border=\"1\" class=\"dataframe\">\n",
       "  <thead>\n",
       "    <tr style=\"text-align: right;\">\n",
       "      <th></th>\n",
       "      <th>Industry</th>\n",
       "      <th>Converted_Salary</th>\n",
       "    </tr>\n",
       "  </thead>\n",
       "  <tbody>\n",
       "    <tr>\n",
       "      <th>0</th>\n",
       "      <td>Advertising Services</td>\n",
       "      <td>85400.000</td>\n",
       "    </tr>\n",
       "    <tr>\n",
       "      <th>1</th>\n",
       "      <td>Financial Services</td>\n",
       "      <td>90000.000</td>\n",
       "    </tr>\n",
       "    <tr>\n",
       "      <th>2</th>\n",
       "      <td>Healthcare</td>\n",
       "      <td>94000.000</td>\n",
       "    </tr>\n",
       "    <tr>\n",
       "      <th>3</th>\n",
       "      <td>Higher Education</td>\n",
       "      <td>63259.655</td>\n",
       "    </tr>\n",
       "    <tr>\n",
       "      <th>4</th>\n",
       "      <td>Information Services, IT, Software Development, or other Technology</td>\n",
       "      <td>70000.000</td>\n",
       "    </tr>\n",
       "    <tr>\n",
       "      <th>5</th>\n",
       "      <td>Insurance</td>\n",
       "      <td>84694.000</td>\n",
       "    </tr>\n",
       "    <tr>\n",
       "      <th>6</th>\n",
       "      <td>Legal Services</td>\n",
       "      <td>75200.000</td>\n",
       "    </tr>\n",
       "    <tr>\n",
       "      <th>7</th>\n",
       "      <td>Manufacturing, Transportation, or Supply Chain</td>\n",
       "      <td>75200.000</td>\n",
       "    </tr>\n",
       "    <tr>\n",
       "      <th>8</th>\n",
       "      <td>Oil &amp; Gas</td>\n",
       "      <td>85240.000</td>\n",
       "    </tr>\n",
       "    <tr>\n",
       "      <th>9</th>\n",
       "      <td>Other</td>\n",
       "      <td>83000.000</td>\n",
       "    </tr>\n",
       "    <tr>\n",
       "      <th>10</th>\n",
       "      <td>Retail and Consumer Services</td>\n",
       "      <td>80820.000</td>\n",
       "    </tr>\n",
       "    <tr>\n",
       "      <th>11</th>\n",
       "      <td>Wholesale</td>\n",
       "      <td>68075.000</td>\n",
       "    </tr>\n",
       "  </tbody>\n",
       "</table>\n",
       "</div>"
      ],
      "text/plain": [
       "                                                               Industry  \\\n",
       "0                                                  Advertising Services   \n",
       "1                                                    Financial Services   \n",
       "2                                                            Healthcare   \n",
       "3                                                      Higher Education   \n",
       "4   Information Services, IT, Software Development, or other Technology   \n",
       "5                                                             Insurance   \n",
       "6                                                        Legal Services   \n",
       "7                        Manufacturing, Transportation, or Supply Chain   \n",
       "8                                                             Oil & Gas   \n",
       "9                                                                 Other   \n",
       "10                                         Retail and Consumer Services   \n",
       "11                                                            Wholesale   \n",
       "\n",
       "    Converted_Salary  \n",
       "0          85400.000  \n",
       "1          90000.000  \n",
       "2          94000.000  \n",
       "3          63259.655  \n",
       "4          70000.000  \n",
       "5          84694.000  \n",
       "6          75200.000  \n",
       "7          75200.000  \n",
       "8          85240.000  \n",
       "9          83000.000  \n",
       "10         80820.000  \n",
       "11         68075.000  "
      ]
     },
     "metadata": {},
     "output_type": "display_data"
    }
   ],
   "source": [
    "# As the highest entries within the \"Information Services, IT, Software Development, or other Technology\" field is exorbitantly high and doesn't accurately represent the field as a whole, I instead show the top 1%/ median of compensation per industry field in EUR. This way the result is more resistant to outliers\n",
    "print(\"Max compensations per industry field in EUR\")\n",
    "display(converted_currency.groupby('Industry')['Converted_Salary'].max().reset_index())\n",
    "\n",
    "print(\"Top 1% Compensations per industry field in EUR\")\n",
    "display(converted_currency.groupby('Industry')['Converted_Salary'].quantile(0.99).reset_index())\n",
    "\n",
    "print(\"Median Compensations per industry field in EUR\")\n",
    "display(converted_currency.groupby('Industry')['Converted_Salary'].median(0.99).reset_index())"
   ]
  },
  {
   "cell_type": "code",
   "execution_count": 36,
   "metadata": {},
   "outputs": [
    {
     "data": {
      "image/png": "[encoded data removed]",
      "text/plain": [
       "<Figure size 1200x600 with 1 Axes>"
      ]
     },
     "metadata": {},
     "output_type": "display_data"
    }
   ],
   "source": [
    "# Group by 'Industry' and calculate the maximum 'Converted_Salary'\n",
    "max_comp_totals = converted_currency.groupby('Industry')['Converted_Salary'].quantile(0.99).reset_index()\n",
    "\n",
    "# Group by 'Industry' and calculate the median 'Converted_Salary'\n",
    "median_comp_totals = converted_currency.groupby('Industry')['Converted_Salary'].median().reset_index()\n",
    "\n",
    "# Create a mapping of abbreviations for long industry names\n",
    "abbreviations = {\n",
    "    'Information Services, IT, Software Development, or other Technology': 'IT, Software Development etc',\n",
    "    'Manufacturing, Transportation, or Supply Chain': 'Manufacturing, Logistics etc'\n",
    "}\n",
    "\n",
    "# Replace long industry names with abbreviations\n",
    "max_comp_totals['Industry'] = max_comp_totals['Industry'].replace(abbreviations)\n",
    "median_comp_totals['Industry'] = median_comp_totals['Industry'].replace(abbreviations)\n",
    "\n",
    "# Set the figure size and create subplots\n",
    "plt.figure(figsize=(12, 6))\n",
    "\n",
    "# Calculate the number of industries\n",
    "num_industries = len(max_comp_totals['Industry'])\n",
    "\n",
    "# Define the width of each bar\n",
    "bar_width = 0.35\n",
    "\n",
    "# Define the x-axis positions for the bars\n",
    "index = np.arange(num_industries)\n",
    "\n",
    "# Create the grouped bar plots for median and top 1% values\n",
    "plt.bar(index, median_comp_totals['Converted_Salary'], bar_width, label='Median')\n",
    "plt.bar(index + bar_width, max_comp_totals['Converted_Salary'], bar_width, color='red', alpha=0.5, label='Top 1%')\n",
    "\n",
    "# Set the x-axis labels, ticks, and rotation\n",
    "plt.xlabel('Industry')\n",
    "plt.ylabel('Total compensation [€]')\n",
    "plt.title('Median and Top 1% Compensation by Industry')\n",
    "plt.xticks(index + bar_width / 2, max_comp_totals['Industry'], rotation=45, ha='right')\n",
    "\n",
    "# Add a legend\n",
    "plt.legend()\n",
    "\n",
    "# Define a threshold for the top 10%\n",
    "threshold_max = max_comp_totals['Converted_Salary'].quantile(0.90)\n",
    "threshold_median = median_comp_totals['Converted_Salary'].quantile(0.90)\n",
    "\n",
    "# Apply conditional coloring to bars based on the threshold for both datasets\n",
    "for i in range(num_industries):\n",
    "    if max_comp_totals['Converted_Salary'][i] >= threshold_max:\n",
    "        plt.gca().get_children()[i + num_industries].set_color('green')  # Set color for top 1% bars\n",
    "    if median_comp_totals['Converted_Salary'][i] >= threshold_median:\n",
    "        plt.gca().get_children()[i].set_color('green')  # Set color for median bars\n",
    "\n",
    "# Show the plot\n",
    "plt.tight_layout()\n",
    "plt.show()\n"
   ]
  },
  {
   "cell_type": "markdown",
   "metadata": {},
   "source": [
    "In 2023 the most profitable industry field as a developer was Financial Services with the median and peak compensation being the highest among the listed fields.  \n",
    "Closely followed Advertising Services with a comparably high top end compensation of 470k.  \n",
    "Median compensation showed less drastic differences, with Financial Services and Healthcare being in the top 10% of industry field.  \n",
    "\n",
    "### It looks like the sector most closely connected to financial flows, also reaps the most fiscal gains in 2023."
   ]
  },
  {
   "cell_type": "markdown",
   "metadata": {},
   "source": [
    "\n",
    "<img src=\"images/green-divider.png\" style=\"width: 100%;\" />\n"
   ]
  },
  {
   "cell_type": "markdown",
   "metadata": {},
   "source": [
    "### How much does remote working matter to employees?"
   ]
  },
  {
   "cell_type": "markdown",
   "metadata": {},
   "source": [
    "remote work status\n",
    "education level\n",
    "age\n",
    "employment status\n",
    "devtype"
   ]
  }
 ],
 "metadata": {
  "kernelspec": {
   "display_name": "Python 3",
   "language": "python",
   "name": "python3"
  },
  "language_info": {
   "codemirror_mode": {
    "name": "ipython",
    "version": 3
   },
   "file_extension": ".py",
   "mimetype": "text/x-python",
   "name": "python",
   "nbconvert_exporter": "python",
   "pygments_lexer": "ipython3",
   "version": "3.10.12"
  },
  "orig_nbformat": 4
 },
 "nbformat": 4,
 "nbformat_minor": 2
}
